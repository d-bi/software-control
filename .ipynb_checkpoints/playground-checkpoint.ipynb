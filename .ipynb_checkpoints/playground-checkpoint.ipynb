{
 "cells": [
  {
   "cell_type": "markdown",
   "metadata": {},
   "source": [
    "# General"
   ]
  },
  {
   "cell_type": "markdown",
   "metadata": {},
   "source": [
    "## Introduction"
   ]
  },
  {
   "cell_type": "markdown",
   "metadata": {},
   "source": [
    "Notebook containing **software-control** EEG processing pipeline. Goal is a general purpose discrimination system for EEG data, ie. the ability to classify sample EEG traces to a few given categories.\n",
    "\n",
    "*Authors: Dasheng Bi*"
   ]
  },
  {
   "cell_type": "markdown",
   "metadata": {},
   "source": [
    "## Quick Operations"
   ]
  },
  {
   "cell_type": "code",
   "execution_count": 98,
   "metadata": {},
   "outputs": [],
   "source": [
    "# Libraries for data import, preprocessing\n",
    "import numpy as np\n",
    "import pandas as pd\n",
    "\n",
    "# Visualization, clustering\n",
    "import seaborn as sns\n",
    "import matplotlib.gridspec as gridspec\n",
    "from mpl_toolkits.mplot3d import Axes3D\n",
    "import matplotlib.pyplot as plt\n",
    "from sklearn.decomposition import PCA\n",
    "from sklearn.manifold import TSNE\n",
    "%matplotlib inline\n",
    "\n",
    "# Tensorflow\n",
    "import tensorflow as tf\n",
    "from tensorflow import keras\n",
    "from tensorflow.keras import layers\n",
    "\n",
    "# Path properties\n",
    "train_root = 'csv_sa_1/'\n",
    "test_root = 'csv_sa_1/'\n",
    "prefix = 'db-rec-'\n",
    "label = ['GO_', 'STOP_']\n",
    "train_number = range(1, 6)\n",
    "test_number = range(1, 6)\n",
    "suffix = '.csv'\n",
    "\n",
    "# Data properties\n",
    "SAMPLE_FREQ = 256\n",
    "INTERVAL = 0.4\n",
    "# N_COMPONENTS = 4 # raw data\n",
    "N_COMPONENTS = 20 # filtered DTABG components\n",
    "TRAIN_SAMPLES = 60\n",
    "TEST_SAMPLES = 36\n",
    "\n",
    "########################################################################\n",
    "\n",
    "# Audio\n",
    "from scipy.io import wavfile\n",
    "from scipy import signal\n",
    "\n",
    "# Audio Path Properties\n",
    "audio_root = 'sound/'\n",
    "audio_prefix = ''\n",
    "audio_suffix = '.wav'\n",
    "\n",
    "# Audio Data Properties\n",
    "AUDIO_SAMPLE_FREQ = 44100\n",
    "AUDIO_EVENT_THRESHOLD_LO = 1\n",
    "AUDIO_EVENT_THRESHOLD_HI = 1000\n",
    "\n",
    "########################################################################\n",
    "# A note on labels: 1 is \"go,\" 0 is \"stop.\""
   ]
  },
  {
   "cell_type": "markdown",
   "metadata": {},
   "source": [
    "# Data Loading, Preprocessing"
   ]
  },
  {
   "cell_type": "markdown",
   "metadata": {},
   "source": [
    "## Imports"
   ]
  },
  {
   "cell_type": "code",
   "execution_count": null,
   "metadata": {},
   "outputs": [],
   "source": [
    "# Libraries for data import, preprocessing\n",
    "import numpy as np\n",
    "import pandas as pd"
   ]
  },
  {
   "cell_type": "code",
   "execution_count": null,
   "metadata": {},
   "outputs": [],
   "source": [
    "# Visualization, clustering\n",
    "import seaborn as sns\n",
    "import matplotlib.gridspec as gridspec\n",
    "from mpl_toolkits.mplot3d import Axes3D\n",
    "import matplotlib.pyplot as plt\n",
    "from sklearn.decomposition import PCA\n",
    "from sklearn.manifold import TSNE\n",
    "%matplotlib inline"
   ]
  },
  {
   "cell_type": "markdown",
   "metadata": {},
   "source": [
    "## Path Configuration"
   ]
  },
  {
   "cell_type": "code",
   "execution_count": null,
   "metadata": {},
   "outputs": [],
   "source": [
    "# Path properties\n",
    "root = 'csv1/'\n",
    "prefix = 'db-rec-'\n",
    "label = ['GO_', 'STOP_']\n",
    "number = range(1, 6)\n",
    "suffix = '.csv'"
   ]
  },
  {
   "cell_type": "markdown",
   "metadata": {},
   "source": [
    "## Read Data, Select Columns"
   ]
  },
  {
   "cell_type": "markdown",
   "metadata": {},
   "source": [
    "### General Attributes"
   ]
  },
  {
   "cell_type": "code",
   "execution_count": null,
   "metadata": {},
   "outputs": [],
   "source": [
    "SAMPLE_FREQ = 256\n",
    "INTERVAL = 0.5\n",
    "\n",
    "# N_COMPONENTS = 4 # raw data\n",
    "N_COMPONENTS = 20 # filtered DTABG components\n",
    "\n",
    "TRAIN_SAMPLES = 60\n",
    "TEST_SAMPLES = 8"
   ]
  },
  {
   "cell_type": "markdown",
   "metadata": {},
   "source": [
    "### Explore Data Format"
   ]
  },
  {
   "cell_type": "code",
   "execution_count": null,
   "metadata": {},
   "outputs": [],
   "source": [
    "path = root + prefix + label[0] + str(number[0]) + suffix\n",
    "df = pd.read_csv(path)\n",
    "print(df.columns)\n",
    "df = df.drop(columns=df.columns[21:])\n",
    "print(df.columns)\n",
    "df = df.drop(columns=df.columns[0])\n",
    "print(df.columns)\n",
    "print(df.shape)"
   ]
  },
  {
   "cell_type": "markdown",
   "metadata": {},
   "source": [
    "### Read in Training Data"
   ]
  },
  {
   "cell_type": "code",
   "execution_count": 45,
   "metadata": {
    "scrolled": true
   },
   "outputs": [
    {
     "name": "stdout",
     "output_type": "stream",
     "text": [
      "Dropped NaN: \n",
      " [[723   0]\n",
      " [723   1]\n",
      " [723   2]\n",
      " [723   3]\n",
      " [723   4]\n",
      " [723   5]\n",
      " [723   6]\n",
      " [723   7]\n",
      " [723   8]\n",
      " [723   9]\n",
      " [723  10]\n",
      " [723  11]\n",
      " [723  12]\n",
      " [723  13]\n",
      " [723  14]\n",
      " [723  15]\n",
      " [723  16]\n",
      " [723  17]\n",
      " [723  18]\n",
      " [723  19]]\n",
      "Dropped NaN: \n",
      " [[ 3  0]\n",
      " [ 3  1]\n",
      " [ 3  2]\n",
      " [ 3  3]\n",
      " [ 3  4]\n",
      " [ 3  5]\n",
      " [ 3  6]\n",
      " [ 3  7]\n",
      " [ 3  8]\n",
      " [ 3  9]\n",
      " [ 3 10]\n",
      " [ 3 11]\n",
      " [ 3 12]\n",
      " [ 3 13]\n",
      " [ 3 14]\n",
      " [ 3 15]\n",
      " [ 3 16]\n",
      " [ 3 17]\n",
      " [ 3 18]\n",
      " [ 3 19]]\n",
      "Dropped NaN: \n",
      " [[187   0]\n",
      " [187   1]\n",
      " [187   2]\n",
      " [187   3]\n",
      " [187   4]\n",
      " [187   5]\n",
      " [187   6]\n",
      " [187   7]\n",
      " [187   8]\n",
      " [187   9]\n",
      " [187  10]\n",
      " [187  11]\n",
      " [187  12]\n",
      " [187  13]\n",
      " [187  14]\n",
      " [187  15]\n",
      " [187  16]\n",
      " [187  17]\n",
      " [187  18]\n",
      " [187  19]]\n",
      "Dropped NaN: \n",
      " [[   1    0]\n",
      " [   1    1]\n",
      " [   1    2]\n",
      " [   1    3]\n",
      " [   1    4]\n",
      " [   1    5]\n",
      " [   1    6]\n",
      " [   1    7]\n",
      " [   1    8]\n",
      " [   1    9]\n",
      " [   1   10]\n",
      " [   1   11]\n",
      " [   1   12]\n",
      " [   1   13]\n",
      " [   1   14]\n",
      " [   1   15]\n",
      " [   1   16]\n",
      " [   1   17]\n",
      " [   1   18]\n",
      " [   1   19]\n",
      " [2160    0]\n",
      " [2160    1]\n",
      " [2160    2]\n",
      " [2160    3]\n",
      " [2160    4]\n",
      " [2160    5]\n",
      " [2160    6]\n",
      " [2160    7]\n",
      " [2160    8]\n",
      " [2160    9]\n",
      " [2160   10]\n",
      " [2160   11]\n",
      " [2160   12]\n",
      " [2160   13]\n",
      " [2160   14]\n",
      " [2160   15]\n",
      " [2160   16]\n",
      " [2160   17]\n",
      " [2160   18]\n",
      " [2160   19]]\n",
      "data_stack shape:  (120, 2560)\n",
      "confirm no NaN: True\n"
     ]
    }
   ],
   "source": [
    "data_stack = np.empty((0, int(INTERVAL * SAMPLE_FREQ * N_COMPONENTS)))\n",
    "# print(data_stack)\n",
    "# print(data_stack.shape)\n",
    "for l in label:\n",
    "    for trial in train_number:\n",
    "        path = train_root + prefix + l + str(trial) + suffix\n",
    "        df = pd.read_csv(path)\n",
    "\n",
    "#         df = df.drop(columns=df.columns[25:])\n",
    "#         df = df.drop(columns=df.columns[0:21])  # Only keep raw EEG data.\n",
    "\n",
    "        df = df.drop(columns=df.columns[21:]) # drop raw columns\n",
    "        df = df.drop(columns=df.columns[0]) # Keep only DTABG filtered components.\n",
    "\n",
    "        if (df.equals(df.dropna()) == False):\n",
    "            print(\"Dropped NaN: \\n\", np.argwhere(np.isnan(df.values)))\n",
    "            df = df.dropna()  # Drop NaN (blank) datapts.\n",
    "\n",
    "        OFFSET = 1\n",
    "        while OFFSET < 7:\n",
    "            START = int(OFFSET * SAMPLE_FREQ)\n",
    "            END = int(START + SAMPLE_FREQ * INTERVAL)\n",
    "            OFFSET += 0.5\n",
    "\n",
    "            raw = df.iloc[START:END]  # Select by row\n",
    "            raw_vals = raw.values\n",
    "    #         print(np.argwhere(np.isnan(raw_vals)))\n",
    "            raw_vals = np.reshape(\n",
    "                raw_vals, (1, int(INTERVAL * SAMPLE_FREQ * N_COMPONENTS)))\n",
    "            data_stack = np.concatenate((data_stack, raw_vals), axis=0)\n",
    "#         print(data_stack.shape)\n",
    "df_stack = pd.DataFrame(data_stack)\n",
    "# print(df_stack.head())\n",
    "# num_rows=num_trials; num_cols=num_datapts\n",
    "print(\"data_stack shape: \", data_stack.shape)\n",
    "print(\"confirm no NaN:\", len(np.argwhere(np.isnan(data_stack))) == 0)  # Should be empty\n",
    "\n",
    "# Labels\n",
    "train_labels = [1] * TRAIN_SAMPLES + [0] * TRAIN_SAMPLES"
   ]
  },
  {
   "cell_type": "markdown",
   "metadata": {},
   "source": [
    "### Read in Testing Data"
   ]
  },
  {
   "cell_type": "code",
   "execution_count": 46,
   "metadata": {},
   "outputs": [
    {
     "name": "stdout",
     "output_type": "stream",
     "text": [
      "Dropped NaN: \n",
      " [[  73    0]\n",
      " [  73    1]\n",
      " [  73    2]\n",
      " [  73    3]\n",
      " [  73    4]\n",
      " [  73    5]\n",
      " [  73    6]\n",
      " [  73    7]\n",
      " [  73    8]\n",
      " [  73    9]\n",
      " [  73   10]\n",
      " [  73   11]\n",
      " [  73   12]\n",
      " [  73   13]\n",
      " [  73   14]\n",
      " [  73   15]\n",
      " [  73   16]\n",
      " [  73   17]\n",
      " [  73   18]\n",
      " [  73   19]\n",
      " [2232    0]\n",
      " [2232    1]\n",
      " [2232    2]\n",
      " [2232    3]\n",
      " [2232    4]\n",
      " [2232    5]\n",
      " [2232    6]\n",
      " [2232    7]\n",
      " [2232    8]\n",
      " [2232    9]\n",
      " [2232   10]\n",
      " [2232   11]\n",
      " [2232   12]\n",
      " [2232   13]\n",
      " [2232   14]\n",
      " [2232   15]\n",
      " [2232   16]\n",
      " [2232   17]\n",
      " [2232   18]\n",
      " [2232   19]]\n",
      "Dropped NaN: \n",
      " [[ 9  0]\n",
      " [ 9  1]\n",
      " [ 9  2]\n",
      " [ 9  3]\n",
      " [ 9  4]\n",
      " [ 9  5]\n",
      " [ 9  6]\n",
      " [ 9  7]\n",
      " [ 9  8]\n",
      " [ 9  9]\n",
      " [ 9 10]\n",
      " [ 9 11]\n",
      " [ 9 12]\n",
      " [ 9 13]\n",
      " [ 9 14]\n",
      " [ 9 15]\n",
      " [ 9 16]\n",
      " [ 9 17]\n",
      " [ 9 18]\n",
      " [ 9 19]\n",
      " [62  0]\n",
      " [62  1]\n",
      " [62  2]\n",
      " [62  3]\n",
      " [62  4]\n",
      " [62  5]\n",
      " [62  6]\n",
      " [62  7]\n",
      " [62  8]\n",
      " [62  9]\n",
      " [62 10]\n",
      " [62 11]\n",
      " [62 12]\n",
      " [62 13]\n",
      " [62 14]\n",
      " [62 15]\n",
      " [62 16]\n",
      " [62 17]\n",
      " [62 18]\n",
      " [62 19]]\n",
      "test_stack shape:  (72, 2560)\n",
      "confirm no NaN: True\n"
     ]
    }
   ],
   "source": [
    "test_stack = np.empty((0, int(INTERVAL * SAMPLE_FREQ * N_COMPONENTS)))\n",
    "for l in label:\n",
    "    for trial in test_number:\n",
    "        path = test_root + prefix + l + str(trial) + suffix\n",
    "        df = pd.read_csv(path)\n",
    "\n",
    "#         df = df.drop(columns=df.columns[25:])\n",
    "#         df = df.drop(columns=df.columns[0:21])  # Only keep raw EEG data.\n",
    "\n",
    "        df = df.drop(columns=df.columns[21:]) # drop raw columns\n",
    "        df = df.drop(columns=df.columns[0]) # Keep only DTABG filtered components.\n",
    "        \n",
    "        if (df.equals(df.dropna()) == False):\n",
    "            print(\"Dropped NaN: \\n\", np.argwhere(np.isnan(df.values)))\n",
    "            df = df.dropna()  # Drop NaN (blank) datapts.\n",
    "\n",
    "        OFFSET = 1\n",
    "        while OFFSET < 7:\n",
    "            START = int(OFFSET * SAMPLE_FREQ)\n",
    "            END = int(START + SAMPLE_FREQ * INTERVAL)\n",
    "            OFFSET += 0.5\n",
    "\n",
    "            raw = df.iloc[START:END]  # Select by row\n",
    "            raw_vals = raw.values\n",
    "            raw_vals = np.reshape(\n",
    "                raw_vals, (1, int(INTERVAL * SAMPLE_FREQ * N_COMPONENTS)))\n",
    "            test_stack = np.concatenate((test_stack, raw_vals), axis=0)\n",
    "#             print(test_stack.shape)\n",
    "df_test = pd.DataFrame(test_stack)\n",
    "# print(df_stack.head())\n",
    "# num_rows=num_trials; num_cols=num_datapts\n",
    "print(\"test_stack shape: \", test_stack.shape)\n",
    "print(\"confirm no NaN:\", len(np.argwhere(np.isnan(test_stack))) == 0)  # Should be empty\n",
    "\n",
    "# Labels\n",
    "test_labels = [1] * TEST_SAMPLES + [0] * TEST_SAMPLES"
   ]
  },
  {
   "cell_type": "markdown",
   "metadata": {},
   "source": [
    "## t-SNE Clustering of Samples"
   ]
  },
  {
   "cell_type": "code",
   "execution_count": 47,
   "metadata": {
    "scrolled": true
   },
   "outputs": [
    {
     "name": "stdout",
     "output_type": "stream",
     "text": [
      "[t-SNE] Computing 119 nearest neighbors...\n",
      "[t-SNE] Indexed 120 samples in 0.008s...\n",
      "[t-SNE] Computed neighbors for 120 samples in 0.004s...\n",
      "[t-SNE] Computed conditional probabilities for sample 120 / 120\n",
      "[t-SNE] Mean sigma: 7.802088\n",
      "[t-SNE] KL divergence after 250 iterations with early exaggeration: 51.648140\n",
      "[t-SNE] KL divergence after 800 iterations: 0.189005\n"
     ]
    },
    {
     "data": {
      "text/plain": [
       "<matplotlib.axes._subplots.AxesSubplot at 0x2142f9f7640>"
      ]
     },
     "execution_count": 47,
     "metadata": {},
     "output_type": "execute_result"
    },
    {
     "data": {
      "image/png": "[encoded data removed]",
      "text/plain": [
       "<Figure size 1152x720 with 1 Axes>"
      ]
     },
     "metadata": {
      "needs_background": "light"
     },
     "output_type": "display_data"
    }
   ],
   "source": [
    "# t-SNE\n",
    "tsne = TSNE(n_components=2, verbose=1, perplexity=50, n_iter=1250)\n",
    "tsne_results = tsne.fit_transform(data_stack)\n",
    "\n",
    "# Plot\n",
    "df_stack['tsne-2d-one'] = tsne_results[:, 0]\n",
    "df_stack['tsne-2d-two'] = tsne_results[:, 1]\n",
    "# Labels\n",
    "NUM_SAMPLES_PER_LABEL = 60\n",
    "y = [1] * NUM_SAMPLES_PER_LABEL + [0] * NUM_SAMPLES_PER_LABEL\n",
    "df_stack['y'] = y\n",
    "plt.figure(figsize=(16, 10))\n",
    "sns.scatterplot(\n",
    "    x=\"tsne-2d-one\", y=\"tsne-2d-two\",\n",
    "    hue=\"y\",\n",
    "    palette=sns.color_palette(\"hls\", 2),\n",
    "    data=df_stack,\n",
    "    legend=\"full\",\n",
    "    alpha=0.8\n",
    ")"
   ]
  },
  {
   "cell_type": "markdown",
   "metadata": {},
   "source": [
    "### Playground: Multiple t-SNEs"
   ]
  },
  {
   "cell_type": "code",
   "execution_count": null,
   "metadata": {},
   "outputs": [],
   "source": [
    "fig = plt.figure(figsize=(16, 10), constrained_layout=True)\n",
    "spec = gridspec.GridSpec(ncols=5, nrows=5, figure=fig)\n",
    "\n",
    "for niter in range(250, 1500, 250):\n",
    "    for perp in range(10, 55, 10):\n",
    "        # multiple t-SNEs\n",
    "        tsne = TSNE(n_components=2, verbose=1, perplexity=perp, n_iter=niter)\n",
    "        tsne_results = tsne.fit_transform(data_stack)\n",
    "\n",
    "        coord_prefix = 'tsne-2d-'\n",
    "        coord_desc = str(niter) + '-' + str(perp)\n",
    "        x_coord = coord_prefix + coord_desc + '-one'\n",
    "        y_coord = coord_prefix + coord_desc + '-two'\n",
    "        df_stack[x_coord] = tsne_results[:, 0]\n",
    "        df_stack[y_coord] = tsne_results[:, 1]\n",
    "\n",
    "        # Labels\n",
    "        NUM_SAMPLES_PER_LABEL = 60\n",
    "        y = [1] * NUM_SAMPLES_PER_LABEL + [0] * NUM_SAMPLES_PER_LABEL\n",
    "        df_stack['y'] = y\n",
    "\n",
    "        niter_offset = int((niter-250)/250)\n",
    "        perp_offset = int((perp-10)/10)\n",
    "        fig.add_subplot(spec[niter_offset, perp_offset])\n",
    "        sns.scatterplot(\n",
    "            x=x_coord, y=y_coord,\n",
    "            hue=\"y\",\n",
    "            palette=sns.color_palette(\"hls\", 2),\n",
    "            data=df_stack,\n",
    "            legend=\"full\",\n",
    "            alpha=0.8,\n",
    "        )"
   ]
  },
  {
   "cell_type": "markdown",
   "metadata": {},
   "source": [
    "## PCA Clustering of Samples"
   ]
  },
  {
   "cell_type": "code",
   "execution_count": 48,
   "metadata": {},
   "outputs": [
    {
     "name": "stdout",
     "output_type": "stream",
     "text": [
      "Explained variation per principal component: [3.16458366e-01 2.27506635e-01 1.09504819e-01 7.96778395e-02\n",
      " 5.86685039e-02 3.19953188e-02 2.82419430e-02 2.30697972e-02\n",
      " 1.85083446e-02 1.58963822e-02 1.37279919e-02 9.86027769e-03\n",
      " 8.43504676e-03 7.78370048e-03 6.29074759e-03 6.13033857e-03\n",
      " 5.32843536e-03 4.81666648e-03 3.76310428e-03 3.24495556e-03\n",
      " 2.69522725e-03 2.27659778e-03 1.90370219e-03 1.43345752e-03\n",
      " 1.33508496e-03 1.10710832e-03 1.05758265e-03 1.01979147e-03\n",
      " 8.90402268e-04 7.84842471e-04 6.27304260e-04 5.77732916e-04\n",
      " 5.67533236e-04 4.61704005e-04 4.00865262e-04 3.54548393e-04\n",
      " 3.28437713e-04 2.85040463e-04 2.47919133e-04 2.33909429e-04\n",
      " 2.21855569e-04 1.95278689e-04 1.58501689e-04 1.39251847e-04\n",
      " 1.26516433e-04 1.17981869e-04 1.11284496e-04 1.00437836e-04\n",
      " 8.59695205e-05 8.17112699e-05]\n",
      "Sum: 0.9988367952404746\n"
     ]
    },
    {
     "data": {
      "image/png": "[encoded data removed]",
      "text/plain": [
       "<Figure size 1152x720 with 1 Axes>"
      ]
     },
     "metadata": {
      "needs_background": "light"
     },
     "output_type": "display_data"
    }
   ],
   "source": [
    "# PCA\n",
    "pca = PCA(n_components=50)\n",
    "pca_result = pca.fit_transform(data_stack)\n",
    "df_stack['pca-one'] = pca_result[:,0]\n",
    "df_stack['pca-two'] = pca_result[:,1] \n",
    "df_stack['pca-three'] = pca_result[:,2]\n",
    "print('Explained variation per principal component: {}'.format(pca.explained_variance_ratio_))\n",
    "print('Sum:', sum(pca.explained_variance_ratio_))\n",
    "## Explained variation per principal component: [0.1557712  0.11314638 0.08842925]\n",
    "\n",
    "# Labels\n",
    "NUM_SAMPLES_PER_LABEL = 60\n",
    "y = [1] * NUM_SAMPLES_PER_LABEL + [0] * NUM_SAMPLES_PER_LABEL\n",
    "df_stack['y'] = y\n",
    "\n",
    "# Plot\n",
    "ax = plt.figure(figsize=(16,10)).gca(projection='3d')\n",
    "ax.scatter(\n",
    "    xs=df_stack[\"pca-one\"], \n",
    "    ys=df_stack[\"pca-two\"], \n",
    "    zs=df_stack[\"pca-three\"], \n",
    "    c=df_stack[\"y\"], \n",
    "    cmap='jet'\n",
    ")\n",
    "ax.set_xlabel('pca-one')\n",
    "ax.set_ylabel('pca-two')\n",
    "ax.set_zlabel('pca-three')\n",
    "plt.show()"
   ]
  },
  {
   "cell_type": "markdown",
   "metadata": {},
   "source": [
    "# Audio Data Augmentation"
   ]
  },
  {
   "cell_type": "markdown",
   "metadata": {},
   "source": [
    "## Imports"
   ]
  },
  {
   "cell_type": "code",
   "execution_count": null,
   "metadata": {},
   "outputs": [],
   "source": [
    "from scipy.io import wavfile\n",
    "from scipy import signal\n",
    "import matplotlib.pyplot as plt"
   ]
  },
  {
   "cell_type": "markdown",
   "metadata": {},
   "source": [
    "## Extract Synchronized Events from Audio/EEG Data"
   ]
  },
  {
   "cell_type": "code",
   "execution_count": 105,
   "metadata": {},
   "outputs": [
    {
     "name": "stdout",
     "output_type": "stream",
     "text": [
      "GO_\n",
      "#### 16527.0 18629.0 21290.0 16186.0 18520.0 #### 19671.0 19079.0 19441.0 20263.0 21348.0 #### 20679.0 18952.0 17212.0 19719.0 22074.0 21361.0 19104.0 18370.0 #### 18342.0 21280.0 19607.0 17213.0 17655.0 20472.0 21963.0 #### 20142.0 18255.0 17811.0 16228.0 15868.0 16084.0 19387.0 STOP_\n",
      "#### 15316.0 16455.0 11172.0 22738.0 16287.0 17146.0 15945.0 #### 15259.0 10672.0 17323.0 15178.0 18759.0 17747.0 14756.0 #### 13261.0 19250.0 17993.0 12716.0 16161.0 13008.0 15437.0 #### 12851.0 14907.0 10876.0 15949.0 4508.0 13500.0 14196.0 5250.0 18813.0 22268.0 #### 15998.0 12313.0 14549.0 18214.0 18271.0 12365.0 17179.0        0         1         2         3         4         5         6     \\\n",
      "0  1.341789  0.353719  0.358488  1.401634  0.928398  0.459415  0.753099   \n",
      "1  0.595075 -0.501120 -0.700811  0.541034  0.352234 -0.375223 -0.118717   \n",
      "2  1.351215  0.409138  0.572290  1.367978  0.962393 -0.070791 -0.041146   \n",
      "3  0.423780 -0.184400 -0.093265  0.477210  0.324408 -0.615944 -0.203809   \n",
      "4  0.818461 -0.005984 -0.334915  0.888020  0.667407 -0.141563  0.364502   \n",
      "\n",
      "       7         8         9     ...      2030      2031      2032      2033  \\\n",
      "0  0.971776  1.068412  0.486944  ...  0.357028  1.131466  0.002832  0.047564   \n",
      "1  0.404063  0.434587 -0.231632  ... -0.041782  0.605080  0.134313 -0.439340   \n",
      "2  0.917246  1.082596  0.218362  ...  0.236020  1.019933  0.421281 -0.400442   \n",
      "3  0.429165  0.758354 -0.169096  ...  0.004400  0.595143  0.086235 -0.428211   \n",
      "4  0.726499  0.852571  0.265612  ...  0.170489  0.959828  0.101392 -0.399083   \n",
      "\n",
      "       2034      2035      2036      2037      2038      2039  \n",
      "0 -0.252336  0.151528 -0.392168 -0.443106 -0.866966 -0.241528  \n",
      "1 -0.498484  0.213967 -0.323956 -0.921011 -0.958616 -0.434179  \n",
      "2 -0.253388  0.620412 -0.176658 -0.907544 -1.021370 -0.010571  \n",
      "3 -0.471110  0.092308 -0.460257 -0.870413 -0.955855 -0.450588  \n",
      "4 -0.480031  0.262447 -0.405639 -0.710460 -0.825717 -0.347198  \n",
      "\n",
      "[5 rows x 2040 columns]\n",
      "data_stack shape:  (70, 2040)\n",
      "confirm no NaN: True\n"
     ]
    }
   ],
   "source": [
    "def to_eeg_index(audio_index):\n",
    "    return int(audio_index / AUDIO_SAMPLE_FREQ * SAMPLE_FREQ)\n",
    "\n",
    "END = to_eeg_index(INTERVAL * AUDIO_SAMPLE_FREQ) # Produce training samples of uniform length.\n",
    "data_stack = np.empty((0, int(END * N_COMPONENTS)))\n",
    "\n",
    "NUM_SAMPLES = []\n",
    "\n",
    "for l in label:\n",
    "    print(l)\n",
    "    event_cts = 0\n",
    "    for trial in train_number:\n",
    "        print('####', end=' ')\n",
    "        ### READ AUDIO DATA\n",
    "        audio_path = audio_root + audio_prefix + l + str(trial) + audio_suffix\n",
    "        _, samples = wavfile.read(audio_path)\n",
    "        envelope = np.abs(signal.hilbert(samples))\n",
    "        \n",
    "        ### GET AUDIO EVENTS\n",
    "        events = np.empty((0, 2))\n",
    "        in_event = False\n",
    "        new_event = np.zeros((1, 2))\n",
    "        hi_threshold_check = False\n",
    "        for s in range(len(samples)):\n",
    "            if (not in_event) and (envelope[s] >= AUDIO_EVENT_THRESHOLD_LO):\n",
    "                in_event = True\n",
    "                new_event[0][0] = s\n",
    "            elif (in_event) and (envelope[s] < AUDIO_EVENT_THRESHOLD_LO):\n",
    "                in_event = False\n",
    "                new_event[0][1] = s\n",
    "                if hi_threshold_check:\n",
    "                    print(new_event[0][1] - new_event[0][0], end=' ') # Progress bar\n",
    "                    events = np.concatenate((events, new_event), axis=0)\n",
    "                    hi_threshold_check = False\n",
    "            elif (in_event) and (envelope[s] >= AUDIO_EVENT_THRESHOLD_HI):\n",
    "                hi_threshold_check = True\n",
    "\n",
    "        ### READ EEG DATA\n",
    "        cortical_path = train_root + prefix + l + str(trial) + suffix\n",
    "        df = pd.read_csv(cortical_path)\n",
    "        \n",
    "        df = df.drop(columns=df.columns[21:]) # drop raw columns\n",
    "        df = df.drop(columns=df.columns[0]) # Keep only DTABG filtered components.\n",
    "\n",
    "        ### EXTRACT EEG EVENTS FROM AUDIO EVENTS\n",
    "        for e in events:\n",
    "            event_cts += 1\n",
    "            \n",
    "            START = to_eeg_index(e[0])\n",
    "\n",
    "            raw = df.iloc[START:]\n",
    "            if (raw.equals(raw.dropna()) == False):\n",
    "                # print('Dropped NaN: %s%d, sample %d' %(l, trial, ct))\n",
    "                raw = raw.dropna()\n",
    "            raw = raw.iloc[:END]\n",
    "            raw_vals = raw.values\n",
    "            raw_vals = np.reshape(\n",
    "                raw_vals, (1, int(raw.size)))\n",
    "            data_stack = np.concatenate((data_stack, raw_vals), axis=0)\n",
    "        \n",
    "    NUM_SAMPLES = NUM_SAMPLES + [event_cts]\n",
    "    print('\\n')\n",
    "\n",
    "df_stack = pd.DataFrame(data_stack)\n",
    "print(df_stack.head())\n",
    "print(\"data_stack shape: \", data_stack.shape)\n",
    "print(\"confirm no NaN:\", len(np.argwhere(np.isnan(data_stack))) == 0)  # Should be empty\n",
    "\n",
    "# Labels: 1=GO, 0=STOP\n",
    "train_labels = [1] * NUM_SAMPLES[0] + [0] * NUM_SAMPLES[1]"
   ]
  },
  {
   "cell_type": "code",
   "execution_count": 100,
   "metadata": {},
   "outputs": [
    {
     "data": {
      "text/plain": [
       "102"
      ]
     },
     "execution_count": 100,
     "metadata": {},
     "output_type": "execute_result"
    }
   ],
   "source": [
    "END"
   ]
  },
  {
   "cell_type": "markdown",
   "metadata": {},
   "source": [
    "## Read and Plot Data"
   ]
  },
  {
   "cell_type": "code",
   "execution_count": 91,
   "metadata": {
    "collapsed": true
   },
   "outputs": [
    {
     "name": "stdout",
     "output_type": "stream",
     "text": [
      "sound/go-3.wav\n",
      "44100\n"
     ]
    },
    {
     "data": {
      "image/png": "[encoded data removed]",
      "text/plain": [
       "<Figure size 1152x720 with 1 Axes>"
      ]
     },
     "metadata": {
      "needs_background": "light"
     },
     "output_type": "display_data"
    }
   ],
   "source": [
    "audio_path = audio_root + audio_prefix + audio_label[0] + str(1) + audio_suffix\n",
    "print(audio_path)\n",
    "sample_rate, samples = wavfile.read(audio_path)\n",
    "plt.figure(figsize=(16,10))\n",
    "plt.plot(samples[:], )\n",
    "plt.ylabel('Amplitude')\n",
    "plt.xlabel('Sample')\n",
    "plt.show()"
   ]
  },
  {
   "cell_type": "markdown",
   "metadata": {},
   "source": [
    "## Extract Events from Data"
   ]
  },
  {
   "cell_type": "code",
   "execution_count": 88,
   "metadata": {
    "collapsed": true
   },
   "outputs": [
    {
     "data": {
      "image/png": "[encoded data removed]",
      "text/plain": [
       "<Figure size 1152x720 with 1 Axes>"
      ]
     },
     "metadata": {
      "needs_background": "light"
     },
     "output_type": "display_data"
    }
   ],
   "source": [
    "AUDIO_EVENT_THRESHOLD_LO = 1\n",
    "AUDIO_EVENT_THRESHOLD_HI = 1000\n",
    "AUDIO_PLT_LEFT, AUDIO_PLT_RIGHT = 0, len(envelope)\n",
    "envelope = np.abs(signal.hilbert(samples))\n",
    "threshold_lo = np.ones(len(envelope)) * AUDIO_EVENT_THRESHOLD_LO\n",
    "threshold_hi = np.ones(len(envelope)) * AUDIO_EVENT_THRESHOLD_HI\n",
    "\n",
    "plt.figure(figsize=(16,10))\n",
    "plt.xlabel('Sample Coordinate'); plt.ylabel('Amplitude')\n",
    "plt.plot(samples[AUDIO_PLT_LEFT:AUDIO_PLT_RIGHT], label='raw')\n",
    "plt.plot(envelope[AUDIO_PLT_LEFT:AUDIO_PLT_RIGHT], label='envelope')\n",
    "plt.plot(threshold_lo[AUDIO_PLT_LEFT:AUDIO_PLT_RIGHT], label='threshold_lo')\n",
    "plt.plot(threshold_hi[AUDIO_PLT_LEFT:AUDIO_PLT_RIGHT], label='threshold_hi')\n",
    "\n",
    "plt.show()\n",
    "\n",
    "events = np.empty((0, 2))\n",
    "in_event = False\n",
    "new_event = np.zeros((1, 2))\n",
    "hi_threshold_check = False\n",
    "\n",
    "for s in range(len(samples)):\n",
    "    if (not in_event) and (envelope[s] >= AUDIO_EVENT_THRESHOLD_LO):\n",
    "        in_event = True\n",
    "        new_event[0][0] = s\n",
    "    elif (in_event) and (envelope[s] < AUDIO_EVENT_THRESHOLD_LO):\n",
    "        in_event = False\n",
    "        new_event[0][1] = s\n",
    "        if hi_threshold_check:\n",
    "            events = np.concatenate((events, new_event), axis=0)\n",
    "            hi_threshold_check = False\n",
    "    elif (in_event) and (envelope[s] >= AUDIO_EVENT_THRESHOLD_HI):\n",
    "        hi_threshold_check = True\n",
    "\n",
    "print(events, len(events))\n",
    "\n",
    "for e in events:\n",
    "    print(e[1]-e[0])"
   ]
  },
  {
   "cell_type": "markdown",
   "metadata": {},
   "source": [
    "# Inference via KNN in PCA Space"
   ]
  },
  {
   "cell_type": "markdown",
   "metadata": {},
   "source": [
    "## Imports"
   ]
  },
  {
   "cell_type": "code",
   "execution_count": 15,
   "metadata": {},
   "outputs": [],
   "source": [
    "from sklearn.neighbors import KNeighborsClassifier\n",
    "from sklearn import metrics"
   ]
  },
  {
   "cell_type": "markdown",
   "metadata": {},
   "source": [
    "## Embed Sample into PCA Space"
   ]
  },
  {
   "cell_type": "code",
   "execution_count": 49,
   "metadata": {},
   "outputs": [],
   "source": [
    "def embed_pca(raw_eeg, pca_components):\n",
    "    \"\"\"\n",
    "    Embeds RAW_EEG into the PCA representation space given by PCA_COMPONENTS\n",
    "    \"\"\"\n",
    "    return np.dot(pca_components, raw_eeg.T).T"
   ]
  },
  {
   "cell_type": "code",
   "execution_count": 50,
   "metadata": {},
   "outputs": [
    {
     "name": "stdout",
     "output_type": "stream",
     "text": [
      "(120, 50)\n",
      "(72, 50)\n"
     ]
    }
   ],
   "source": [
    "# pca_components = pca.components_\n",
    "# print(pca_components.shape)\n",
    "# data_stack_pca = np.dot(pca_components, data_stack.T).T\n",
    "data_stack_pca = embed_pca(data_stack, pca.components_)\n",
    "print(data_stack_pca.shape)\n",
    "test_stack_pca = embed_pca(test_stack, pca.components_)\n",
    "print(test_stack_pca.shape)"
   ]
  },
  {
   "cell_type": "markdown",
   "metadata": {},
   "source": [
    "### Playground: Embedding one sample into PCA Space"
   ]
  },
  {
   "cell_type": "code",
   "execution_count": null,
   "metadata": {},
   "outputs": [],
   "source": [
    "# Procedure for obtaining one sample's representation in PCA space\n",
    "sample = data_stack[0,:]\n",
    "print(sample.shape)\n",
    "sample_rep = np.dot(pca_components, sample)"
   ]
  },
  {
   "cell_type": "markdown",
   "metadata": {},
   "source": [
    "## KNN Classifier"
   ]
  },
  {
   "cell_type": "markdown",
   "metadata": {},
   "source": [
    "### Playground: Test Different k-values"
   ]
  },
  {
   "cell_type": "code",
   "execution_count": 52,
   "metadata": {},
   "outputs": [
    {
     "name": "stdout",
     "output_type": "stream",
     "text": [
      "(480, 50)\n",
      "(480,)\n",
      "Maximum accuracy is 0.638889\n"
     ]
    }
   ],
   "source": [
    "k_range = range(1, 51)\n",
    "scores_list = []\n",
    "TEST_TO_TRAIN_WEIGHT = 5\n",
    "total_stack_pca = np.concatenate(\n",
    "    (np.tile(test_stack_pca,\n",
    "             (TEST_TO_TRAIN_WEIGHT, 1)),\n",
    "     data_stack_pca))\n",
    "total_labels = np.concatenate(\n",
    "    (np.tile(test_labels,\n",
    "             (TEST_TO_TRAIN_WEIGHT)),\n",
    "     train_labels))\n",
    "print(total_stack_pca.shape)\n",
    "print(total_labels.shape)\n",
    "for k_val in k_range:\n",
    "    knn = KNeighborsClassifier(n_neighbors=k_val)\n",
    "    knn.fit(data_stack_pca, train_labels)\n",
    "    knn_predict = knn.predict(test_stack_pca)\n",
    "    scores_list.append(metrics.accuracy_score(test_labels, knn_predict))\n",
    "\n",
    "print('Maximum accuracy is %f' % (np.amax(scores_list)))"
   ]
  },
  {
   "cell_type": "markdown",
   "metadata": {},
   "source": [
    "### Plot KNN Results"
   ]
  },
  {
   "cell_type": "code",
   "execution_count": 53,
   "metadata": {},
   "outputs": [
    {
     "data": {
      "text/plain": [
       "<matplotlib.axes._subplots.AxesSubplot at 0x2142f8e2bb0>"
      ]
     },
     "execution_count": 53,
     "metadata": {},
     "output_type": "execute_result"
    },
    {
     "data": {
      "image/png": "[encoded data removed]",
      "text/plain": [
       "<Figure size 432x288 with 1 Axes>"
      ]
     },
     "metadata": {
      "needs_background": "light"
     },
     "output_type": "display_data"
    }
   ],
   "source": [
    "sns.lineplot(x=k_range, y=scores_list)"
   ]
  },
  {
   "cell_type": "code",
   "execution_count": null,
   "metadata": {},
   "outputs": [],
   "source": []
  },
  {
   "cell_type": "markdown",
   "metadata": {},
   "source": [
    "# Neural Network Approaches"
   ]
  },
  {
   "cell_type": "markdown",
   "metadata": {},
   "source": [
    "## Imports"
   ]
  },
  {
   "cell_type": "code",
   "execution_count": null,
   "metadata": {},
   "outputs": [],
   "source": [
    "import tensorflow as tf\n",
    "from tensorflow import keras\n",
    "from tensorflow.keras import layers"
   ]
  },
  {
   "cell_type": "markdown",
   "metadata": {},
   "source": [
    "## Read in Data to tf.data.Dataset"
   ]
  },
  {
   "cell_type": "markdown",
   "metadata": {},
   "source": [
    "### Read into Numpy Array"
   ]
  },
  {
   "cell_type": "markdown",
   "metadata": {},
   "source": [
    "#### Training Data"
   ]
  },
  {
   "cell_type": "code",
   "execution_count": 2,
   "metadata": {},
   "outputs": [],
   "source": [
    "train_root = 'csvc/'\n",
    "test_root = 'csvc/'\n",
    "train_number = range(1, 6)\n",
    "test_number = range(6, 9)"
   ]
  },
  {
   "cell_type": "code",
   "execution_count": 3,
   "metadata": {},
   "outputs": [
    {
     "name": "stdout",
     "output_type": "stream",
     "text": [
      "Dropped NaN: \n",
      " [[723   0]\n",
      " [723   1]\n",
      " [723   2]\n",
      " [723   3]\n",
      " [723   4]\n",
      " [723   5]\n",
      " [723   6]\n",
      " [723   7]\n",
      " [723   8]\n",
      " [723   9]\n",
      " [723  10]\n",
      " [723  11]\n",
      " [723  12]\n",
      " [723  13]\n",
      " [723  14]\n",
      " [723  15]\n",
      " [723  16]\n",
      " [723  17]\n",
      " [723  18]\n",
      " [723  19]]\n",
      "Dropped NaN: \n",
      " [[ 3  0]\n",
      " [ 3  1]\n",
      " [ 3  2]\n",
      " [ 3  3]\n",
      " [ 3  4]\n",
      " [ 3  5]\n",
      " [ 3  6]\n",
      " [ 3  7]\n",
      " [ 3  8]\n",
      " [ 3  9]\n",
      " [ 3 10]\n",
      " [ 3 11]\n",
      " [ 3 12]\n",
      " [ 3 13]\n",
      " [ 3 14]\n",
      " [ 3 15]\n",
      " [ 3 16]\n",
      " [ 3 17]\n",
      " [ 3 18]\n",
      " [ 3 19]]\n",
      "Dropped NaN: \n",
      " [[187   0]\n",
      " [187   1]\n",
      " [187   2]\n",
      " [187   3]\n",
      " [187   4]\n",
      " [187   5]\n",
      " [187   6]\n",
      " [187   7]\n",
      " [187   8]\n",
      " [187   9]\n",
      " [187  10]\n",
      " [187  11]\n",
      " [187  12]\n",
      " [187  13]\n",
      " [187  14]\n",
      " [187  15]\n",
      " [187  16]\n",
      " [187  17]\n",
      " [187  18]\n",
      " [187  19]]\n",
      "Dropped NaN: \n",
      " [[   1    0]\n",
      " [   1    1]\n",
      " [   1    2]\n",
      " [   1    3]\n",
      " [   1    4]\n",
      " [   1    5]\n",
      " [   1    6]\n",
      " [   1    7]\n",
      " [   1    8]\n",
      " [   1    9]\n",
      " [   1   10]\n",
      " [   1   11]\n",
      " [   1   12]\n",
      " [   1   13]\n",
      " [   1   14]\n",
      " [   1   15]\n",
      " [   1   16]\n",
      " [   1   17]\n",
      " [   1   18]\n",
      " [   1   19]\n",
      " [2160    0]\n",
      " [2160    1]\n",
      " [2160    2]\n",
      " [2160    3]\n",
      " [2160    4]\n",
      " [2160    5]\n",
      " [2160    6]\n",
      " [2160    7]\n",
      " [2160    8]\n",
      " [2160    9]\n",
      " [2160   10]\n",
      " [2160   11]\n",
      " [2160   12]\n",
      " [2160   13]\n",
      " [2160   14]\n",
      " [2160   15]\n",
      " [2160   16]\n",
      " [2160   17]\n",
      " [2160   18]\n",
      " [2160   19]]\n",
      "data_stack shape:  (120, 128, 20)\n",
      "confirm no NaN: True\n"
     ]
    }
   ],
   "source": [
    "data_stack = np.empty((0, int(INTERVAL * SAMPLE_FREQ), N_COMPONENTS))\n",
    "# print(data_stack.shape)\n",
    "\n",
    "for l in label:\n",
    "    for trial in train_number:\n",
    "        path = train_root + prefix + l + str(trial) + suffix\n",
    "        df = pd.read_csv(path)\n",
    "\n",
    "#         df = df.drop(columns=df.columns[25:])\n",
    "#         df = df.drop(columns=df.columns[0:21])  # Only keep raw EEG data.\n",
    "\n",
    "        df = df.drop(columns=df.columns[21:]) # drop raw columns\n",
    "        df = df.drop(columns=df.columns[0]) # Keep only DTABG filtered components.\n",
    "        \n",
    "#         print(df.shape)\n",
    "\n",
    "        if (df.equals(df.dropna()) == False):\n",
    "            print(\"Dropped NaN: \\n\", np.argwhere(np.isnan(df.values)))\n",
    "            df = df.dropna()  # Drop NaN (blank) datapts.\n",
    "\n",
    "        OFFSET = 1\n",
    "        while OFFSET < 7:\n",
    "            START = int(OFFSET * SAMPLE_FREQ)\n",
    "            END = int(START + SAMPLE_FREQ * INTERVAL)\n",
    "            OFFSET += 0.5\n",
    "\n",
    "            raw = df.iloc[START:END]  # Select by row\n",
    "            raw_vals = raw.values\n",
    "            raw_vals = np.reshape(\n",
    "                raw_vals, (1, int(INTERVAL * SAMPLE_FREQ), N_COMPONENTS))\n",
    "            data_stack = np.concatenate((data_stack, raw_vals), axis=0)\n",
    "#         print(data_stack.shape)\n",
    "        \n",
    "print(\"data_stack shape: \", data_stack.shape)\n",
    "print(\"confirm no NaN:\", len(np.argwhere(np.isnan(data_stack))) == 0)  # Should be empty"
   ]
  },
  {
   "cell_type": "markdown",
   "metadata": {},
   "source": [
    "#### Testing"
   ]
  },
  {
   "cell_type": "code",
   "execution_count": 4,
   "metadata": {},
   "outputs": [
    {
     "name": "stdout",
     "output_type": "stream",
     "text": [
      "Dropped NaN: \n",
      " [[  73    0]\n",
      " [  73    1]\n",
      " [  73    2]\n",
      " [  73    3]\n",
      " [  73    4]\n",
      " [  73    5]\n",
      " [  73    6]\n",
      " [  73    7]\n",
      " [  73    8]\n",
      " [  73    9]\n",
      " [  73   10]\n",
      " [  73   11]\n",
      " [  73   12]\n",
      " [  73   13]\n",
      " [  73   14]\n",
      " [  73   15]\n",
      " [  73   16]\n",
      " [  73   17]\n",
      " [  73   18]\n",
      " [  73   19]\n",
      " [2232    0]\n",
      " [2232    1]\n",
      " [2232    2]\n",
      " [2232    3]\n",
      " [2232    4]\n",
      " [2232    5]\n",
      " [2232    6]\n",
      " [2232    7]\n",
      " [2232    8]\n",
      " [2232    9]\n",
      " [2232   10]\n",
      " [2232   11]\n",
      " [2232   12]\n",
      " [2232   13]\n",
      " [2232   14]\n",
      " [2232   15]\n",
      " [2232   16]\n",
      " [2232   17]\n",
      " [2232   18]\n",
      " [2232   19]]\n",
      "Dropped NaN: \n",
      " [[ 9  0]\n",
      " [ 9  1]\n",
      " [ 9  2]\n",
      " [ 9  3]\n",
      " [ 9  4]\n",
      " [ 9  5]\n",
      " [ 9  6]\n",
      " [ 9  7]\n",
      " [ 9  8]\n",
      " [ 9  9]\n",
      " [ 9 10]\n",
      " [ 9 11]\n",
      " [ 9 12]\n",
      " [ 9 13]\n",
      " [ 9 14]\n",
      " [ 9 15]\n",
      " [ 9 16]\n",
      " [ 9 17]\n",
      " [ 9 18]\n",
      " [ 9 19]\n",
      " [62  0]\n",
      " [62  1]\n",
      " [62  2]\n",
      " [62  3]\n",
      " [62  4]\n",
      " [62  5]\n",
      " [62  6]\n",
      " [62  7]\n",
      " [62  8]\n",
      " [62  9]\n",
      " [62 10]\n",
      " [62 11]\n",
      " [62 12]\n",
      " [62 13]\n",
      " [62 14]\n",
      " [62 15]\n",
      " [62 16]\n",
      " [62 17]\n",
      " [62 18]\n",
      " [62 19]]\n",
      "test_stack shape:  (72, 128, 20)\n",
      "confirm no NaN: True\n"
     ]
    }
   ],
   "source": [
    "test_stack = np.empty((0, int(INTERVAL * SAMPLE_FREQ), N_COMPONENTS))\n",
    "for l in label:\n",
    "    for trial in test_number:\n",
    "        path = test_root + prefix + l + str(trial) + suffix\n",
    "        df = pd.read_csv(path)\n",
    "\n",
    "#         df = df.drop(columns=df.columns[25:])\n",
    "#         df = df.drop(columns=df.columns[0:21])  # Only keep raw EEG data.\n",
    "\n",
    "        df = df.drop(columns=df.columns[21:]) # drop raw columns\n",
    "        df = df.drop(columns=df.columns[0]) # Keep only DTABG filtered components.\n",
    "        \n",
    "        if (df.equals(df.dropna()) == False):\n",
    "            print(\"Dropped NaN: \\n\", np.argwhere(np.isnan(df.values)))\n",
    "            df = df.dropna()  # Drop NaN (blank) datapts.\n",
    "\n",
    "        OFFSET = 1\n",
    "        while OFFSET < 7:\n",
    "            START = int(OFFSET * SAMPLE_FREQ)\n",
    "            END = int(START + SAMPLE_FREQ * INTERVAL)\n",
    "            OFFSET += 0.5\n",
    "\n",
    "            raw = df.iloc[START:END]  # Select by row\n",
    "            raw_vals = raw.values\n",
    "            raw_vals = np.reshape(\n",
    "                raw_vals, (1, int(INTERVAL * SAMPLE_FREQ), N_COMPONENTS))\n",
    "            test_stack = np.concatenate((test_stack, raw_vals), axis=0)\n",
    "#             print(test_stack.shape)\n",
    "# df_test = pd.DataFrame(test_stack)\n",
    "# print(df_stack.head())\n",
    "# num_rows=num_trials; num_cols=num_datapts\n",
    "print(\"test_stack shape: \", test_stack.shape)\n",
    "print(\"confirm no NaN:\", len(np.argwhere(np.isnan(test_stack))) == 0)  # Should be empty"
   ]
  },
  {
   "cell_type": "markdown",
   "metadata": {},
   "source": [
    "#### Labels"
   ]
  },
  {
   "cell_type": "code",
   "execution_count": 23,
   "metadata": {},
   "outputs": [
    {
     "name": "stdout",
     "output_type": "stream",
     "text": [
      "(72, 2)\n"
     ]
    }
   ],
   "source": [
    "# Labels\n",
    "train_labels = np.concatenate(\n",
    "    (np.tile([0, 1], (TRAIN_SAMPLES, 1)),\n",
    "     np.tile([1, 0], (TRAIN_SAMPLES, 1)))\n",
    ")\n",
    "test_labels = np.concatenate(\n",
    "    (np.tile([0, 1], (TEST_SAMPLES, 1)),\n",
    "     np.tile([1, 0], (TEST_SAMPLES, 1)))\n",
    ")"
   ]
  },
  {
   "cell_type": "markdown",
   "metadata": {},
   "source": [
    "### Create tf.data.Dataset from tensor slices"
   ]
  },
  {
   "cell_type": "code",
   "execution_count": 56,
   "metadata": {},
   "outputs": [],
   "source": [
    "FULL_DATASET_SIZE = 120\n",
    "TRAIN_SIZE = int(FULL_DATASET_SIZE * 0.8)\n",
    "VALIDATION_SIZE = int(FULL_DATASET_SIZE * 0.2)\n",
    "\n",
    "TRAIN_BATCH_SIZE = 4\n",
    "VALIDATION_BATCH_SIZE = 1\n",
    "\n",
    "full_dataset = tf.data.Dataset.from_tensor_slices(\n",
    "    (data_stack, train_labels)\n",
    ").shuffle(FULL_DATASET_SIZE)\n",
    "\n",
    "train_dataset = full_dataset.take(TRAIN_SIZE).batch(TRAIN_BATCH_SIZE)\n",
    "validation_dataset = full_dataset.skip(TRAIN_SIZE).take(VALIDATION_SIZE).batch(VALIDATION_BATCH_SIZE)\n",
    "\n",
    "test_dataset = tf.data.Dataset.from_tensor_slices((test_stack, test_labels))\n",
    "TEST_SHUFFLE_BUFFER = 16\n",
    "TEST_BATCH_SIZE = 1\n",
    "test_dataset = test_dataset.shuffle(TEST_SHUFFLE_BUFFER).batch(TEST_BATCH_SIZE)"
   ]
  },
  {
   "cell_type": "code",
   "execution_count": 57,
   "metadata": {},
   "outputs": [
    {
     "name": "stdout",
     "output_type": "stream",
     "text": [
      "<BatchDataset shapes: ((None, 128, 20), (None, 2)), types: (tf.float64, tf.int32)> <BatchDataset shapes: ((None, 128, 20), (None, 2)), types: (tf.float64, tf.int32)> <BatchDataset shapes: ((None, 128, 20), (None, 2)), types: (tf.float64, tf.int32)>\n"
     ]
    }
   ],
   "source": [
    "print(train_dataset, validation_dataset, test_dataset)"
   ]
  },
  {
   "cell_type": "markdown",
   "metadata": {},
   "source": [
    "## Build the Model with Keras"
   ]
  },
  {
   "cell_type": "markdown",
   "metadata": {},
   "source": [
    "### A Basic Convolutional Neural Network"
   ]
  },
  {
   "cell_type": "code",
   "execution_count": 48,
   "metadata": {},
   "outputs": [
    {
     "name": "stdout",
     "output_type": "stream",
     "text": [
      "Model: \"simple_conv\"\n",
      "_________________________________________________________________\n",
      "Layer (type)                 Output Shape              Param #   \n",
      "=================================================================\n",
      "input_8 (InputLayer)         [(None, 128, 20, 1)]      0         \n",
      "_________________________________________________________________\n",
      "conv2d (Conv2D)              (None, 126, 18, 16)       160       \n",
      "_________________________________________________________________\n",
      "max_pooling2d (MaxPooling2D) (None, 63, 18, 16)        0         \n",
      "_________________________________________________________________\n",
      "conv2d_1 (Conv2D)            (None, 61, 16, 32)        4640      \n",
      "_________________________________________________________________\n",
      "max_pooling2d_1 (MaxPooling2 (None, 30, 16, 32)        0         \n",
      "_________________________________________________________________\n",
      "conv2d_2 (Conv2D)            (None, 28, 14, 64)        18496     \n",
      "_________________________________________________________________\n",
      "flatten (Flatten)            (None, 25088)             0         \n",
      "_________________________________________________________________\n",
      "dense_10 (Dense)             (None, 64)                1605696   \n",
      "_________________________________________________________________\n",
      "dense_11 (Dense)             (None, 16)                1040      \n",
      "_________________________________________________________________\n",
      "dense_12 (Dense)             (None, 2)                 34        \n",
      "=================================================================\n",
      "Total params: 1,630,066\n",
      "Trainable params: 1,630,066\n",
      "Non-trainable params: 0\n",
      "_________________________________________________________________\n"
     ]
    }
   ],
   "source": [
    "input_shape = (int(SAMPLE_FREQ * INTERVAL), N_COMPONENTS, 1)\n",
    "inputs = keras.Input(shape=input_shape)\n",
    "# A proposed architecture is to use recurrent first to \"summarize,\"\n",
    "    # No need for embedding layer in recurrent subnetwork?\n",
    "# then use convolutional to classify.\n",
    "\n",
    "\n",
    "first_conv = layers.Conv2D(16, 3, activation='relu')\n",
    "first_pool = layers.MaxPool2D(pool_size=(2, 1))\n",
    "second_conv = layers.Conv2D(32, 3, activation='relu')\n",
    "second_pool = layers.MaxPool2D(pool_size=(2, 1))\n",
    "third_conv = layers.Conv2D(64, 3, activation='relu')\n",
    "flattener = layers.Flatten()\n",
    "first_dense = layers.Dense(64, activation='relu')\n",
    "second_dense = layers.Dense(16, activation='relu')\n",
    "third_dense = layers.Dense(2)\n",
    "\n",
    "outputs = third_dense(\n",
    "    second_dense(first_dense(\n",
    "        flattener(\n",
    "            third_conv(\n",
    "                second_pool(second_conv(\n",
    "                    first_pool(first_conv(inputs)))))))))\n",
    "\n",
    "model = keras.Model(inputs=inputs, outputs=outputs, name='simple_conv')\n",
    "model.summary()"
   ]
  },
  {
   "cell_type": "markdown",
   "metadata": {},
   "source": [
    "### A Basic Recurrent Neural Network"
   ]
  },
  {
   "cell_type": "code",
   "execution_count": 69,
   "metadata": {},
   "outputs": [
    {
     "name": "stdout",
     "output_type": "stream",
     "text": [
      "WARNING:tensorflow:Layer lstm_11 will not use cuDNN kernel since it doesn't meet the cuDNN kernel criteria. It will use generic GPU kernel as fallback when running on GPU\n",
      "Model: \"simple_lstm\"\n",
      "_________________________________________________________________\n",
      "Layer (type)                 Output Shape              Param #   \n",
      "=================================================================\n",
      "input_13 (InputLayer)        [(None, 128, 20)]         0         \n",
      "_________________________________________________________________\n",
      "lstm_11 (LSTM)               (None, 64)                21760     \n",
      "_________________________________________________________________\n",
      "dense_21 (Dense)             (None, 64)                4160      \n",
      "_________________________________________________________________\n",
      "dense_22 (Dense)             (None, 2)                 130       \n",
      "=================================================================\n",
      "Total params: 26,050\n",
      "Trainable params: 26,050\n",
      "Non-trainable params: 0\n",
      "_________________________________________________________________\n"
     ]
    }
   ],
   "source": [
    "input_shape = (int(SAMPLE_FREQ * INTERVAL), N_COMPONENTS)\n",
    "inputs = keras.Input(shape=input_shape)\n",
    "\n",
    "recurr_layer = layers.LSTM(64, dropout=0.1, recurrent_dropout=0.1)\n",
    "first_dense = layers.Dense(64, activation='sigmoid')\n",
    "result_dense = layers.Dense(2, activation='sigmoid')\n",
    "\n",
    "outputs = result_dense(\n",
    "        first_dense(\n",
    "            recurr_layer(inputs)))\n",
    "\n",
    "model = keras.Model(inputs=inputs, outputs=outputs, name='simple_lstm')\n",
    "model.summary()"
   ]
  },
  {
   "cell_type": "markdown",
   "metadata": {},
   "source": [
    "### A Recurrent-->Convolutional Neural Network"
   ]
  },
  {
   "cell_type": "code",
   "execution_count": null,
   "metadata": {},
   "outputs": [],
   "source": []
  },
  {
   "cell_type": "markdown",
   "metadata": {},
   "source": [
    "### Compile Model"
   ]
  },
  {
   "cell_type": "code",
   "execution_count": 70,
   "metadata": {},
   "outputs": [],
   "source": [
    "model.compile(optimizer='adam',\n",
    "              loss=keras.losses.BinaryCrossentropy(from_logits=True),\n",
    "              metrics=['accuracy'])"
   ]
  },
  {
   "cell_type": "markdown",
   "metadata": {},
   "source": [
    "## Train Model"
   ]
  },
  {
   "cell_type": "code",
   "execution_count": 71,
   "metadata": {},
   "outputs": [
    {
     "name": "stdout",
     "output_type": "stream",
     "text": [
      "Epoch 1/10\n",
      "24/24 [==============================] - 16s 663ms/step - loss: 0.7170 - accuracy: 0.5521 - val_loss: 0.7128 - val_accuracy: 0.5000\n",
      "Epoch 2/10\n",
      "24/24 [==============================] - 13s 558ms/step - loss: 0.7013 - accuracy: 0.5104 - val_loss: 0.6868 - val_accuracy: 0.6250\n",
      "Epoch 3/10\n",
      "24/24 [==============================] - 13s 540ms/step - loss: 0.6929 - accuracy: 0.5208 - val_loss: 0.6858 - val_accuracy: 0.6250\n",
      "Epoch 4/10\n",
      "24/24 [==============================] - 13s 536ms/step - loss: 0.6920 - accuracy: 0.6250 - val_loss: 0.6892 - val_accuracy: 0.6667\n",
      "Epoch 5/10\n",
      "24/24 [==============================] - 12s 516ms/step - loss: 0.6836 - accuracy: 0.6562 - val_loss: 0.6963 - val_accuracy: 0.4583\n",
      "Epoch 6/10\n",
      "24/24 [==============================] - 15s 636ms/step - loss: 0.6904 - accuracy: 0.5625 - val_loss: 0.6767 - val_accuracy: 0.7083\n",
      "Epoch 7/10\n",
      "24/24 [==============================] - 17s 697ms/step - loss: 0.6658 - accuracy: 0.6979 - val_loss: 0.6488 - val_accuracy: 0.7500\n",
      "Epoch 8/10\n",
      "24/24 [==============================] - 19s 792ms/step - loss: 0.6529 - accuracy: 0.7083 - val_loss: 0.6389 - val_accuracy: 0.7500\n",
      "Epoch 9/10\n",
      "24/24 [==============================] - 20s 820ms/step - loss: 0.6773 - accuracy: 0.6250 - val_loss: 0.6646 - val_accuracy: 0.6667\n",
      "Epoch 10/10\n",
      "24/24 [==============================] - 18s 742ms/step - loss: 0.6592 - accuracy: 0.6562 - val_loss: 0.6384 - val_accuracy: 0.7083\n"
     ]
    }
   ],
   "source": [
    "history = model.fit(train_dataset, epochs=10, verbose=1, validation_data=validation_dataset)"
   ]
  },
  {
   "cell_type": "markdown",
   "metadata": {},
   "source": [
    "## Test Model"
   ]
  },
  {
   "cell_type": "code",
   "execution_count": 72,
   "metadata": {},
   "outputs": [
    {
     "name": "stdout",
     "output_type": "stream",
     "text": [
      "72/72 [==============================] - 2s 28ms/step - loss: 0.7080 - accuracy: 0.5417\n"
     ]
    }
   ],
   "source": [
    "test_loss, test_acc = model.evaluate(test_dataset)"
   ]
  },
  {
   "cell_type": "code",
   "execution_count": null,
   "metadata": {},
   "outputs": [],
   "source": []
  },
  {
   "cell_type": "code",
   "execution_count": null,
   "metadata": {},
   "outputs": [],
   "source": []
  }
 ],
 "metadata": {
  "kernelspec": {
   "display_name": "Python 3",
   "language": "python",
   "name": "python3"
  },
  "language_info": {
   "codemirror_mode": {
    "name": "ipython",
    "version": 3
   },
   "file_extension": ".py",
   "mimetype": "text/x-python",
   "name": "python",
   "nbconvert_exporter": "python",
   "pygments_lexer": "ipython3",
   "version": "3.8.1"
  },
  "toc": {
   "base_numbering": "0",
   "nav_menu": {},
   "number_sections": true,
   "sideBar": true,
   "skip_h1_title": false,
   "title_cell": "Table of Contents",
   "title_sidebar": "Contents",
   "toc_cell": false,
   "toc_position": {
    "height": "613.2px",
    "left": "43px",
    "top": "110.8px",
    "width": "259.79px"
   },
   "toc_section_display": true,
   "toc_window_display": true
  },
  "varInspector": {
   "cols": {
    "lenName": 16,
    "lenType": 16,
    "lenVar": 40
   },
   "kernels_config": {
    "python": {
     "delete_cmd_postfix": "",
     "delete_cmd_prefix": "del ",
     "library": "var_list.py",
     "varRefreshCmd": "print(var_dic_list())"
    },
    "r": {
     "delete_cmd_postfix": ") ",
     "delete_cmd_prefix": "rm(",
     "library": "var_list.r",
     "varRefreshCmd": "cat(var_dic_list()) "
    }
   },
   "oldHeight": 378.17572800000005,
   "position": {
    "height": "398.898px",
    "left": "798.364px",
    "right": "20px",
    "top": "20px",
    "width": "583.352px"
   },
   "types_to_exclude": [
    "module",
    "function",
    "builtin_function_or_method",
    "instance",
    "_Feature"
   ],
   "varInspector_section_display": "block",
   "window_display": false
  }
 },
 "nbformat": 4,
 "nbformat_minor": 2
}
