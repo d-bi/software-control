{
 "cells": [
  {
   "cell_type": "markdown",
   "metadata": {},
   "source": [
    "# General"
   ]
  },
  {
   "cell_type": "markdown",
   "metadata": {},
   "source": [
    "## Introduction"
   ]
  },
  {
   "cell_type": "markdown",
   "metadata": {},
   "source": [
    "Notebook containing **software-control** EEG processing pipeline. Goal is a general purpose discrimination system for EEG data, ie. the ability to classify sample EEG traces to a few given categories.\n",
    "\n",
    "*Authors: Dasheng Bi*"
   ]
  },
  {
   "cell_type": "markdown",
   "metadata": {},
   "source": [
    "## Quick Operations"
   ]
  },
  {
   "cell_type": "code",
   "execution_count": 1,
   "metadata": {},
   "outputs": [],
   "source": [
    "# Libraries for data import, preprocessing\n",
    "import numpy as np\n",
    "import pandas as pd\n",
    "\n",
    "# Visualization, clustering\n",
    "import seaborn as sns\n",
    "import matplotlib.gridspec as gridspec\n",
    "from mpl_toolkits.mplot3d import Axes3D\n",
    "import matplotlib.pyplot as plt\n",
    "from sklearn.decomposition import PCA\n",
    "from sklearn.manifold import TSNE\n",
    "%matplotlib inline\n",
    "\n",
    "# Tensorflow\n",
    "import tensorflow as tf\n",
    "from tensorflow import keras\n",
    "from tensorflow.keras import layers\n",
    "\n",
    "# Path properties\n",
    "train_root = 'csv1/'\n",
    "test_root = 'csv2/'\n",
    "prefix = 'db-rec-'\n",
    "label = ['GO_', 'STOP_']\n",
    "train_number = range(1, 6)\n",
    "test_number = range(1, 4)\n",
    "suffix = '.csv'\n",
    "\n",
    "# Data properties\n",
    "SAMPLE_FREQ = 256\n",
    "INTERVAL = 0.5\n",
    "# N_COMPONENTS = 4 # raw data\n",
    "N_COMPONENTS = 20 # filtered DTABG components\n",
    "TRAIN_SAMPLES = 60\n",
    "TEST_SAMPLES = 36"
   ]
  },
  {
   "cell_type": "markdown",
   "metadata": {},
   "source": [
    "# Data Loading, Preprocessing"
   ]
  },
  {
   "cell_type": "markdown",
   "metadata": {},
   "source": [
    "## Imports"
   ]
  },
  {
   "cell_type": "code",
   "execution_count": null,
   "metadata": {},
   "outputs": [],
   "source": [
    "# Libraries for data import, preprocessing\n",
    "import numpy as np\n",
    "import pandas as pd"
   ]
  },
  {
   "cell_type": "code",
   "execution_count": null,
   "metadata": {},
   "outputs": [],
   "source": [
    "# Visualization, clustering\n",
    "import seaborn as sns\n",
    "import matplotlib.gridspec as gridspec\n",
    "from mpl_toolkits.mplot3d import Axes3D\n",
    "import matplotlib.pyplot as plt\n",
    "from sklearn.decomposition import PCA\n",
    "from sklearn.manifold import TSNE\n",
    "%matplotlib inline"
   ]
  },
  {
   "cell_type": "markdown",
   "metadata": {},
   "source": [
    "## Path Configuration"
   ]
  },
  {
   "cell_type": "code",
   "execution_count": null,
   "metadata": {},
   "outputs": [],
   "source": [
    "# Path properties\n",
    "root = 'csv1/'\n",
    "prefix = 'db-rec-'\n",
    "label = ['GO_', 'STOP_']\n",
    "number = range(1, 6)\n",
    "suffix = '.csv'"
   ]
  },
  {
   "cell_type": "markdown",
   "metadata": {},
   "source": [
    "## Read Data, Select Columns"
   ]
  },
  {
   "cell_type": "markdown",
   "metadata": {},
   "source": [
    "### General Attributes"
   ]
  },
  {
   "cell_type": "code",
   "execution_count": null,
   "metadata": {},
   "outputs": [],
   "source": [
    "SAMPLE_FREQ = 256\n",
    "INTERVAL = 0.5\n",
    "\n",
    "# N_COMPONENTS = 4 # raw data\n",
    "N_COMPONENTS = 20 # filtered DTABG components\n",
    "\n",
    "TRAIN_SAMPLES = 60\n",
    "TEST_SAMPLES = 8"
   ]
  },
  {
   "cell_type": "markdown",
   "metadata": {},
   "source": [
    "### Explore Data Format"
   ]
  },
  {
   "cell_type": "code",
   "execution_count": null,
   "metadata": {},
   "outputs": [],
   "source": [
    "path = root + prefix + label[0] + str(number[0]) + suffix\n",
    "df = pd.read_csv(path)\n",
    "print(df.columns)\n",
    "df = df.drop(columns=df.columns[21:])\n",
    "print(df.columns)\n",
    "df = df.drop(columns=df.columns[0])\n",
    "print(df.columns)\n",
    "print(df.shape)"
   ]
  },
  {
   "cell_type": "markdown",
   "metadata": {},
   "source": [
    "### Read in Training Data"
   ]
  },
  {
   "cell_type": "code",
   "execution_count": 11,
   "metadata": {
    "scrolled": true
   },
   "outputs": [
    {
     "name": "stdout",
     "output_type": "stream",
     "text": [
      "Dropped NaN: \n",
      " [[187   0]\n",
      " [187   1]\n",
      " [187   2]\n",
      " [187   3]\n",
      " [187   4]\n",
      " [187   5]\n",
      " [187   6]\n",
      " [187   7]\n",
      " [187   8]\n",
      " [187   9]\n",
      " [187  10]\n",
      " [187  11]\n",
      " [187  12]\n",
      " [187  13]\n",
      " [187  14]\n",
      " [187  15]\n",
      " [187  16]\n",
      " [187  17]\n",
      " [187  18]\n",
      " [187  19]]\n",
      "data_stack shape:  (120, 2560)\n",
      "confirm no NaN: True\n"
     ]
    }
   ],
   "source": [
    "data_stack = np.empty((0, int(INTERVAL * SAMPLE_FREQ * N_COMPONENTS)))\n",
    "# print(data_stack)\n",
    "# print(data_stack.shape)\n",
    "for l in label:\n",
    "    for trial in train_number:\n",
    "        path = train_root + prefix + l + str(trial) + suffix\n",
    "        df = pd.read_csv(path)\n",
    "\n",
    "#         df = df.drop(columns=df.columns[25:])\n",
    "#         df = df.drop(columns=df.columns[0:21])  # Only keep raw EEG data.\n",
    "\n",
    "        df = df.drop(columns=df.columns[21:]) # drop raw columns\n",
    "        df = df.drop(columns=df.columns[0]) # Keep only DTABG filtered components.\n",
    "\n",
    "        if (df.equals(df.dropna()) == False):\n",
    "            print(\"Dropped NaN: \\n\", np.argwhere(np.isnan(df.values)))\n",
    "            df = df.dropna()  # Drop NaN (blank) datapts.\n",
    "\n",
    "        OFFSET = 1\n",
    "        while OFFSET < 7:\n",
    "            START = int(OFFSET * SAMPLE_FREQ)\n",
    "            END = int(START + SAMPLE_FREQ * INTERVAL)\n",
    "            OFFSET += 0.5\n",
    "\n",
    "            raw = df.iloc[START:END]  # Select by row\n",
    "            raw_vals = raw.values\n",
    "    #         print(np.argwhere(np.isnan(raw_vals)))\n",
    "            raw_vals = np.reshape(\n",
    "                raw_vals, (1, int(INTERVAL * SAMPLE_FREQ * N_COMPONENTS)))\n",
    "            data_stack = np.concatenate((data_stack, raw_vals), axis=0)\n",
    "#         print(data_stack.shape)\n",
    "df_stack = pd.DataFrame(data_stack)\n",
    "# print(df_stack.head())\n",
    "# num_rows=num_trials; num_cols=num_datapts\n",
    "print(\"data_stack shape: \", data_stack.shape)\n",
    "print(\"confirm no NaN:\", len(np.argwhere(np.isnan(data_stack))) == 0)  # Should be empty\n",
    "\n",
    "# Labels\n",
    "train_labels = [1] * TRAIN_SAMPLES + [0] * TRAIN_SAMPLES"
   ]
  },
  {
   "cell_type": "markdown",
   "metadata": {},
   "source": [
    "### Read in Testing Data"
   ]
  },
  {
   "cell_type": "code",
   "execution_count": 12,
   "metadata": {},
   "outputs": [
    {
     "name": "stdout",
     "output_type": "stream",
     "text": [
      "Dropped NaN: \n",
      " [[723   0]\n",
      " [723   1]\n",
      " [723   2]\n",
      " [723   3]\n",
      " [723   4]\n",
      " [723   5]\n",
      " [723   6]\n",
      " [723   7]\n",
      " [723   8]\n",
      " [723   9]\n",
      " [723  10]\n",
      " [723  11]\n",
      " [723  12]\n",
      " [723  13]\n",
      " [723  14]\n",
      " [723  15]\n",
      " [723  16]\n",
      " [723  17]\n",
      " [723  18]\n",
      " [723  19]]\n",
      "Dropped NaN: \n",
      " [[ 3  0]\n",
      " [ 3  1]\n",
      " [ 3  2]\n",
      " [ 3  3]\n",
      " [ 3  4]\n",
      " [ 3  5]\n",
      " [ 3  6]\n",
      " [ 3  7]\n",
      " [ 3  8]\n",
      " [ 3  9]\n",
      " [ 3 10]\n",
      " [ 3 11]\n",
      " [ 3 12]\n",
      " [ 3 13]\n",
      " [ 3 14]\n",
      " [ 3 15]\n",
      " [ 3 16]\n",
      " [ 3 17]\n",
      " [ 3 18]\n",
      " [ 3 19]]\n",
      "Dropped NaN: \n",
      " [[  73    0]\n",
      " [  73    1]\n",
      " [  73    2]\n",
      " [  73    3]\n",
      " [  73    4]\n",
      " [  73    5]\n",
      " [  73    6]\n",
      " [  73    7]\n",
      " [  73    8]\n",
      " [  73    9]\n",
      " [  73   10]\n",
      " [  73   11]\n",
      " [  73   12]\n",
      " [  73   13]\n",
      " [  73   14]\n",
      " [  73   15]\n",
      " [  73   16]\n",
      " [  73   17]\n",
      " [  73   18]\n",
      " [  73   19]\n",
      " [2232    0]\n",
      " [2232    1]\n",
      " [2232    2]\n",
      " [2232    3]\n",
      " [2232    4]\n",
      " [2232    5]\n",
      " [2232    6]\n",
      " [2232    7]\n",
      " [2232    8]\n",
      " [2232    9]\n",
      " [2232   10]\n",
      " [2232   11]\n",
      " [2232   12]\n",
      " [2232   13]\n",
      " [2232   14]\n",
      " [2232   15]\n",
      " [2232   16]\n",
      " [2232   17]\n",
      " [2232   18]\n",
      " [2232   19]]\n",
      "Dropped NaN: \n",
      " [[   1    0]\n",
      " [   1    1]\n",
      " [   1    2]\n",
      " [   1    3]\n",
      " [   1    4]\n",
      " [   1    5]\n",
      " [   1    6]\n",
      " [   1    7]\n",
      " [   1    8]\n",
      " [   1    9]\n",
      " [   1   10]\n",
      " [   1   11]\n",
      " [   1   12]\n",
      " [   1   13]\n",
      " [   1   14]\n",
      " [   1   15]\n",
      " [   1   16]\n",
      " [   1   17]\n",
      " [   1   18]\n",
      " [   1   19]\n",
      " [2160    0]\n",
      " [2160    1]\n",
      " [2160    2]\n",
      " [2160    3]\n",
      " [2160    4]\n",
      " [2160    5]\n",
      " [2160    6]\n",
      " [2160    7]\n",
      " [2160    8]\n",
      " [2160    9]\n",
      " [2160   10]\n",
      " [2160   11]\n",
      " [2160   12]\n",
      " [2160   13]\n",
      " [2160   14]\n",
      " [2160   15]\n",
      " [2160   16]\n",
      " [2160   17]\n",
      " [2160   18]\n",
      " [2160   19]]\n",
      "Dropped NaN: \n",
      " [[ 9  0]\n",
      " [ 9  1]\n",
      " [ 9  2]\n",
      " [ 9  3]\n",
      " [ 9  4]\n",
      " [ 9  5]\n",
      " [ 9  6]\n",
      " [ 9  7]\n",
      " [ 9  8]\n",
      " [ 9  9]\n",
      " [ 9 10]\n",
      " [ 9 11]\n",
      " [ 9 12]\n",
      " [ 9 13]\n",
      " [ 9 14]\n",
      " [ 9 15]\n",
      " [ 9 16]\n",
      " [ 9 17]\n",
      " [ 9 18]\n",
      " [ 9 19]\n",
      " [62  0]\n",
      " [62  1]\n",
      " [62  2]\n",
      " [62  3]\n",
      " [62  4]\n",
      " [62  5]\n",
      " [62  6]\n",
      " [62  7]\n",
      " [62  8]\n",
      " [62  9]\n",
      " [62 10]\n",
      " [62 11]\n",
      " [62 12]\n",
      " [62 13]\n",
      " [62 14]\n",
      " [62 15]\n",
      " [62 16]\n",
      " [62 17]\n",
      " [62 18]\n",
      " [62 19]]\n",
      "test_stack shape:  (72, 2560)\n",
      "confirm no NaN: True\n"
     ]
    }
   ],
   "source": [
    "test_stack = np.empty((0, int(INTERVAL * SAMPLE_FREQ * N_COMPONENTS)))\n",
    "for l in label:\n",
    "    for trial in test_number:\n",
    "        path = test_root + prefix + l + str(trial) + suffix\n",
    "        df = pd.read_csv(path)\n",
    "\n",
    "#         df = df.drop(columns=df.columns[25:])\n",
    "#         df = df.drop(columns=df.columns[0:21])  # Only keep raw EEG data.\n",
    "\n",
    "        df = df.drop(columns=df.columns[21:]) # drop raw columns\n",
    "        df = df.drop(columns=df.columns[0]) # Keep only DTABG filtered components.\n",
    "        \n",
    "        if (df.equals(df.dropna()) == False):\n",
    "            print(\"Dropped NaN: \\n\", np.argwhere(np.isnan(df.values)))\n",
    "            df = df.dropna()  # Drop NaN (blank) datapts.\n",
    "\n",
    "        OFFSET = 1\n",
    "        while OFFSET < 7:\n",
    "            START = int(OFFSET * SAMPLE_FREQ)\n",
    "            END = int(START + SAMPLE_FREQ * INTERVAL)\n",
    "            OFFSET += 0.5\n",
    "\n",
    "            raw = df.iloc[START:END]  # Select by row\n",
    "            raw_vals = raw.values\n",
    "            raw_vals = np.reshape(\n",
    "                raw_vals, (1, int(INTERVAL * SAMPLE_FREQ * N_COMPONENTS)))\n",
    "            test_stack = np.concatenate((test_stack, raw_vals), axis=0)\n",
    "#             print(test_stack.shape)\n",
    "df_test = pd.DataFrame(test_stack)\n",
    "# print(df_stack.head())\n",
    "# num_rows=num_trials; num_cols=num_datapts\n",
    "print(\"test_stack shape: \", test_stack.shape)\n",
    "print(\"confirm no NaN:\", len(np.argwhere(np.isnan(test_stack))) == 0)  # Should be empty\n",
    "\n",
    "# Labels\n",
    "test_labels = [1] * TEST_SAMPLES + [0] * TEST_SAMPLES"
   ]
  },
  {
   "cell_type": "markdown",
   "metadata": {},
   "source": [
    "## t-SNE Clustering of Samples"
   ]
  },
  {
   "cell_type": "code",
   "execution_count": 13,
   "metadata": {
    "scrolled": true
   },
   "outputs": [
    {
     "name": "stdout",
     "output_type": "stream",
     "text": [
      "[t-SNE] Computing 119 nearest neighbors...\n",
      "[t-SNE] Indexed 120 samples in 0.001s...\n",
      "[t-SNE] Computed neighbors for 120 samples in 0.012s...\n",
      "[t-SNE] Computed conditional probabilities for sample 120 / 120\n",
      "[t-SNE] Mean sigma: 6.520831\n",
      "[t-SNE] KL divergence after 250 iterations with early exaggeration: 51.611298\n",
      "[t-SNE] KL divergence after 850 iterations: 0.234893\n"
     ]
    },
    {
     "data": {
      "text/plain": [
       "<matplotlib.axes._subplots.AxesSubplot at 0x213f0259880>"
      ]
     },
     "execution_count": 13,
     "metadata": {},
     "output_type": "execute_result"
    },
    {
     "data": {
      "image/png": "[encoded data removed]",
      "text/plain": [
       "<Figure size 1152x720 with 1 Axes>"
      ]
     },
     "metadata": {
      "needs_background": "light"
     },
     "output_type": "display_data"
    }
   ],
   "source": [
    "# t-SNE\n",
    "tsne = TSNE(n_components=2, verbose=1, perplexity=50, n_iter=1250)\n",
    "tsne_results = tsne.fit_transform(data_stack)\n",
    "\n",
    "# Plot\n",
    "df_stack['tsne-2d-one'] = tsne_results[:, 0]\n",
    "df_stack['tsne-2d-two'] = tsne_results[:, 1]\n",
    "# Labels\n",
    "NUM_SAMPLES_PER_LABEL = 60\n",
    "y = [1] * NUM_SAMPLES_PER_LABEL + [0] * NUM_SAMPLES_PER_LABEL\n",
    "df_stack['y'] = y\n",
    "plt.figure(figsize=(16, 10))\n",
    "sns.scatterplot(\n",
    "    x=\"tsne-2d-one\", y=\"tsne-2d-two\",\n",
    "    hue=\"y\",\n",
    "    palette=sns.color_palette(\"hls\", 2),\n",
    "    data=df_stack,\n",
    "    legend=\"full\",\n",
    "    alpha=0.8\n",
    ")"
   ]
  },
  {
   "cell_type": "markdown",
   "metadata": {},
   "source": [
    "### Playground: Multiple t-SNEs"
   ]
  },
  {
   "cell_type": "code",
   "execution_count": null,
   "metadata": {},
   "outputs": [],
   "source": [
    "fig = plt.figure(figsize=(16, 10), constrained_layout=True)\n",
    "spec = gridspec.GridSpec(ncols=5, nrows=5, figure=fig)\n",
    "\n",
    "for niter in range(250, 1500, 250):\n",
    "    for perp in range(10, 55, 10):\n",
    "        # multiple t-SNEs\n",
    "        tsne = TSNE(n_components=2, verbose=1, perplexity=perp, n_iter=niter)\n",
    "        tsne_results = tsne.fit_transform(data_stack)\n",
    "\n",
    "        coord_prefix = 'tsne-2d-'\n",
    "        coord_desc = str(niter) + '-' + str(perp)\n",
    "        x_coord = coord_prefix + coord_desc + '-one'\n",
    "        y_coord = coord_prefix + coord_desc + '-two'\n",
    "        df_stack[x_coord] = tsne_results[:, 0]\n",
    "        df_stack[y_coord] = tsne_results[:, 1]\n",
    "\n",
    "        # Labels\n",
    "        NUM_SAMPLES_PER_LABEL = 60\n",
    "        y = [1] * NUM_SAMPLES_PER_LABEL + [0] * NUM_SAMPLES_PER_LABEL\n",
    "        df_stack['y'] = y\n",
    "\n",
    "        niter_offset = int((niter-250)/250)\n",
    "        perp_offset = int((perp-10)/10)\n",
    "        fig.add_subplot(spec[niter_offset, perp_offset])\n",
    "        sns.scatterplot(\n",
    "            x=x_coord, y=y_coord,\n",
    "            hue=\"y\",\n",
    "            palette=sns.color_palette(\"hls\", 2),\n",
    "            data=df_stack,\n",
    "            legend=\"full\",\n",
    "            alpha=0.8,\n",
    "        )"
   ]
  },
  {
   "cell_type": "markdown",
   "metadata": {},
   "source": [
    "## PCA Clustering of Samples"
   ]
  },
  {
   "cell_type": "code",
   "execution_count": 14,
   "metadata": {},
   "outputs": [
    {
     "name": "stdout",
     "output_type": "stream",
     "text": [
      "Explained variation per principal component: [3.11201724e-01 1.52421539e-01 1.11012669e-01 8.11255311e-02\n",
      " 6.26448580e-02 4.69405282e-02 3.73676838e-02 3.50370987e-02\n",
      " 2.65071891e-02 2.23956601e-02 1.61699380e-02 1.43902091e-02\n",
      " 1.21010091e-02 9.72039661e-03 8.03151994e-03 7.41105652e-03\n",
      " 6.48525974e-03 6.07109122e-03 4.08599100e-03 3.44618072e-03\n",
      " 3.19660353e-03 2.63159488e-03 2.47982349e-03 2.15735205e-03\n",
      " 1.97527076e-03 1.78297632e-03 1.24597735e-03 1.07179023e-03\n",
      " 1.03411602e-03 9.01096803e-04 6.75280366e-04 6.08594702e-04\n",
      " 4.97048601e-04 4.65968503e-04 4.46416757e-04 4.01740682e-04\n",
      " 3.18312971e-04 2.85787289e-04 2.57226348e-04 2.49763476e-04\n",
      " 2.16744872e-04 2.08826666e-04 1.97196909e-04 1.56523521e-04\n",
      " 1.45697495e-04 1.36282098e-04 1.17900764e-04 1.05134439e-04\n",
      " 9.28402687e-05 8.65755802e-05]\n",
      "Sum: 0.9987135960046394\n"
     ]
    },
    {
     "data": {
      "image/png": "[encoded data removed]",
      "text/plain": [
       "<Figure size 1152x720 with 1 Axes>"
      ]
     },
     "metadata": {
      "needs_background": "light"
     },
     "output_type": "display_data"
    }
   ],
   "source": [
    "# PCA\n",
    "pca = PCA(n_components=50)\n",
    "pca_result = pca.fit_transform(data_stack)\n",
    "df_stack['pca-one'] = pca_result[:,0]\n",
    "df_stack['pca-two'] = pca_result[:,1] \n",
    "df_stack['pca-three'] = pca_result[:,2]\n",
    "print('Explained variation per principal component: {}'.format(pca.explained_variance_ratio_))\n",
    "print('Sum:', sum(pca.explained_variance_ratio_))\n",
    "## Explained variation per principal component: [0.1557712  0.11314638 0.08842925]\n",
    "\n",
    "# Labels\n",
    "NUM_SAMPLES_PER_LABEL = 60\n",
    "y = [1] * NUM_SAMPLES_PER_LABEL + [0] * NUM_SAMPLES_PER_LABEL\n",
    "df_stack['y'] = y\n",
    "\n",
    "# Plot\n",
    "ax = plt.figure(figsize=(16,10)).gca(projection='3d')\n",
    "ax.scatter(\n",
    "    xs=df_stack[\"pca-one\"], \n",
    "    ys=df_stack[\"pca-two\"], \n",
    "    zs=df_stack[\"pca-three\"], \n",
    "    c=df_stack[\"y\"], \n",
    "    cmap='jet'\n",
    ")\n",
    "ax.set_xlabel('pca-one')\n",
    "ax.set_ylabel('pca-two')\n",
    "ax.set_zlabel('pca-three')\n",
    "plt.show()"
   ]
  },
  {
   "cell_type": "markdown",
   "metadata": {},
   "source": [
    "# Inference via KNN in PCA Space"
   ]
  },
  {
   "cell_type": "markdown",
   "metadata": {},
   "source": [
    "## Imports"
   ]
  },
  {
   "cell_type": "code",
   "execution_count": 15,
   "metadata": {},
   "outputs": [],
   "source": [
    "from sklearn.neighbors import KNeighborsClassifier\n",
    "from sklearn import metrics"
   ]
  },
  {
   "cell_type": "markdown",
   "metadata": {},
   "source": [
    "## Embed Sample into PCA Space"
   ]
  },
  {
   "cell_type": "code",
   "execution_count": 16,
   "metadata": {},
   "outputs": [],
   "source": [
    "def embed_pca(raw_eeg, pca_components):\n",
    "    \"\"\"\n",
    "    Embeds RAW_EEG into the PCA representation space given by PCA_COMPONENTS\n",
    "    \"\"\"\n",
    "    return np.dot(pca_components, raw_eeg.T).T"
   ]
  },
  {
   "cell_type": "code",
   "execution_count": 17,
   "metadata": {},
   "outputs": [
    {
     "name": "stdout",
     "output_type": "stream",
     "text": [
      "(120, 50)\n",
      "(72, 50)\n"
     ]
    }
   ],
   "source": [
    "# pca_components = pca.components_\n",
    "# print(pca_components.shape)\n",
    "# data_stack_pca = np.dot(pca_components, data_stack.T).T\n",
    "data_stack_pca = embed_pca(data_stack, pca.components_)\n",
    "print(data_stack_pca.shape)\n",
    "test_stack_pca = embed_pca(test_stack, pca.components_)\n",
    "print(test_stack_pca.shape)"
   ]
  },
  {
   "cell_type": "markdown",
   "metadata": {},
   "source": [
    "### Playground: Embedding one sample into PCA Space"
   ]
  },
  {
   "cell_type": "code",
   "execution_count": null,
   "metadata": {},
   "outputs": [],
   "source": [
    "# Procedure for obtaining one sample's representation in PCA space\n",
    "sample = data_stack[0,:]\n",
    "print(sample.shape)\n",
    "sample_rep = np.dot(pca_components, sample)"
   ]
  },
  {
   "cell_type": "markdown",
   "metadata": {},
   "source": [
    "## KNN Classifier"
   ]
  },
  {
   "cell_type": "markdown",
   "metadata": {},
   "source": [
    "### Playground: Test Different k-values"
   ]
  },
  {
   "cell_type": "code",
   "execution_count": 22,
   "metadata": {},
   "outputs": [
    {
     "name": "stdout",
     "output_type": "stream",
     "text": [
      "(480, 50)\n",
      "(480,)\n",
      "Maximum accuracy is 0.687500\n"
     ]
    }
   ],
   "source": [
    "k_range = range(1, 51)\n",
    "scores_list = []\n",
    "TEST_TO_TRAIN_WEIGHT = 5\n",
    "total_stack_pca = np.concatenate(\n",
    "    (np.tile(test_stack_pca,\n",
    "             (TEST_TO_TRAIN_WEIGHT, 1)),\n",
    "     data_stack_pca))\n",
    "total_labels = np.concatenate(\n",
    "    (np.tile(test_labels,\n",
    "             (TEST_TO_TRAIN_WEIGHT)),\n",
    "     train_labels))\n",
    "print(total_stack_pca.shape)\n",
    "print(total_labels.shape)\n",
    "for k_val in k_range:\n",
    "    knn = KNeighborsClassifier(n_neighbors=k_val)\n",
    "    knn.fit(data_stack_pca, train_labels)\n",
    "    knn_predict = knn.predict(total_stack_pca)\n",
    "    scores_list.append(metrics.accuracy_score(total_labels, knn_predict))\n",
    "\n",
    "print('Maximum accuracy is %f' % (np.amax(scores_list)))"
   ]
  },
  {
   "cell_type": "markdown",
   "metadata": {},
   "source": [
    "### Plot KNN Results"
   ]
  },
  {
   "cell_type": "code",
   "execution_count": 23,
   "metadata": {},
   "outputs": [
    {
     "data": {
      "text/plain": [
       "<matplotlib.axes._subplots.AxesSubplot at 0x214088cbdf0>"
      ]
     },
     "execution_count": 23,
     "metadata": {},
     "output_type": "execute_result"
    },
    {
     "data": {
      "image/png": "[encoded data removed]",
      "text/plain": [
       "<Figure size 432x288 with 1 Axes>"
      ]
     },
     "metadata": {
      "needs_background": "light"
     },
     "output_type": "display_data"
    }
   ],
   "source": [
    "sns.lineplot(x=k_range, y=scores_list)"
   ]
  },
  {
   "cell_type": "code",
   "execution_count": null,
   "metadata": {},
   "outputs": [],
   "source": []
  },
  {
   "cell_type": "markdown",
   "metadata": {},
   "source": [
    "# Neural Network Approaches"
   ]
  },
  {
   "cell_type": "markdown",
   "metadata": {},
   "source": [
    "## Imports"
   ]
  },
  {
   "cell_type": "code",
   "execution_count": null,
   "metadata": {},
   "outputs": [],
   "source": [
    "import tensorflow as tf\n",
    "from tensorflow import keras\n",
    "from tensorflow.keras import layers"
   ]
  },
  {
   "cell_type": "markdown",
   "metadata": {},
   "source": [
    "## Read in Data to tf.data.Dataset"
   ]
  },
  {
   "cell_type": "markdown",
   "metadata": {},
   "source": [
    "### Read into Numpy Array"
   ]
  },
  {
   "cell_type": "markdown",
   "metadata": {},
   "source": [
    "#### Training Data"
   ]
  },
  {
   "cell_type": "code",
   "execution_count": 2,
   "metadata": {},
   "outputs": [
    {
     "name": "stdout",
     "output_type": "stream",
     "text": [
      "Dropped NaN: \n",
      " [[187   0]\n",
      " [187   1]\n",
      " [187   2]\n",
      " [187   3]\n",
      " [187   4]\n",
      " [187   5]\n",
      " [187   6]\n",
      " [187   7]\n",
      " [187   8]\n",
      " [187   9]\n",
      " [187  10]\n",
      " [187  11]\n",
      " [187  12]\n",
      " [187  13]\n",
      " [187  14]\n",
      " [187  15]\n",
      " [187  16]\n",
      " [187  17]\n",
      " [187  18]\n",
      " [187  19]]\n",
      "data_stack shape:  (120, 128, 20)\n",
      "confirm no NaN: True\n"
     ]
    }
   ],
   "source": [
    "data_stack = np.empty((0, int(INTERVAL * SAMPLE_FREQ), N_COMPONENTS))\n",
    "# print(data_stack.shape)\n",
    "\n",
    "for l in label:\n",
    "    for trial in train_number:\n",
    "        path = train_root + prefix + l + str(trial) + suffix\n",
    "        df = pd.read_csv(path)\n",
    "\n",
    "#         df = df.drop(columns=df.columns[25:])\n",
    "#         df = df.drop(columns=df.columns[0:21])  # Only keep raw EEG data.\n",
    "\n",
    "        df = df.drop(columns=df.columns[21:]) # drop raw columns\n",
    "        df = df.drop(columns=df.columns[0]) # Keep only DTABG filtered components.\n",
    "        \n",
    "#         print(df.shape)\n",
    "\n",
    "        if (df.equals(df.dropna()) == False):\n",
    "            print(\"Dropped NaN: \\n\", np.argwhere(np.isnan(df.values)))\n",
    "            df = df.dropna()  # Drop NaN (blank) datapts.\n",
    "\n",
    "        OFFSET = 1\n",
    "        while OFFSET < 7:\n",
    "            START = int(OFFSET * SAMPLE_FREQ)\n",
    "            END = int(START + SAMPLE_FREQ * INTERVAL)\n",
    "            OFFSET += 0.5\n",
    "\n",
    "            raw = df.iloc[START:END]  # Select by row\n",
    "            raw_vals = raw.values\n",
    "            raw_vals = np.reshape(\n",
    "                raw_vals, (1, int(INTERVAL * SAMPLE_FREQ), N_COMPONENTS))\n",
    "            data_stack = np.concatenate((data_stack, raw_vals), axis=0)\n",
    "#         print(data_stack.shape)\n",
    "        \n",
    "print(\"data_stack shape: \", data_stack.shape)\n",
    "print(\"confirm no NaN:\", len(np.argwhere(np.isnan(data_stack))) == 0)  # Should be empty"
   ]
  },
  {
   "cell_type": "markdown",
   "metadata": {},
   "source": [
    "#### Testing"
   ]
  },
  {
   "cell_type": "code",
   "execution_count": 3,
   "metadata": {},
   "outputs": [
    {
     "name": "stdout",
     "output_type": "stream",
     "text": [
      "Dropped NaN: \n",
      " [[723   0]\n",
      " [723   1]\n",
      " [723   2]\n",
      " [723   3]\n",
      " [723   4]\n",
      " [723   5]\n",
      " [723   6]\n",
      " [723   7]\n",
      " [723   8]\n",
      " [723   9]\n",
      " [723  10]\n",
      " [723  11]\n",
      " [723  12]\n",
      " [723  13]\n",
      " [723  14]\n",
      " [723  15]\n",
      " [723  16]\n",
      " [723  17]\n",
      " [723  18]\n",
      " [723  19]]\n",
      "Dropped NaN: \n",
      " [[ 3  0]\n",
      " [ 3  1]\n",
      " [ 3  2]\n",
      " [ 3  3]\n",
      " [ 3  4]\n",
      " [ 3  5]\n",
      " [ 3  6]\n",
      " [ 3  7]\n",
      " [ 3  8]\n",
      " [ 3  9]\n",
      " [ 3 10]\n",
      " [ 3 11]\n",
      " [ 3 12]\n",
      " [ 3 13]\n",
      " [ 3 14]\n",
      " [ 3 15]\n",
      " [ 3 16]\n",
      " [ 3 17]\n",
      " [ 3 18]\n",
      " [ 3 19]]\n",
      "Dropped NaN: \n",
      " [[  73    0]\n",
      " [  73    1]\n",
      " [  73    2]\n",
      " [  73    3]\n",
      " [  73    4]\n",
      " [  73    5]\n",
      " [  73    6]\n",
      " [  73    7]\n",
      " [  73    8]\n",
      " [  73    9]\n",
      " [  73   10]\n",
      " [  73   11]\n",
      " [  73   12]\n",
      " [  73   13]\n",
      " [  73   14]\n",
      " [  73   15]\n",
      " [  73   16]\n",
      " [  73   17]\n",
      " [  73   18]\n",
      " [  73   19]\n",
      " [2232    0]\n",
      " [2232    1]\n",
      " [2232    2]\n",
      " [2232    3]\n",
      " [2232    4]\n",
      " [2232    5]\n",
      " [2232    6]\n",
      " [2232    7]\n",
      " [2232    8]\n",
      " [2232    9]\n",
      " [2232   10]\n",
      " [2232   11]\n",
      " [2232   12]\n",
      " [2232   13]\n",
      " [2232   14]\n",
      " [2232   15]\n",
      " [2232   16]\n",
      " [2232   17]\n",
      " [2232   18]\n",
      " [2232   19]]\n",
      "Dropped NaN: \n",
      " [[   1    0]\n",
      " [   1    1]\n",
      " [   1    2]\n",
      " [   1    3]\n",
      " [   1    4]\n",
      " [   1    5]\n",
      " [   1    6]\n",
      " [   1    7]\n",
      " [   1    8]\n",
      " [   1    9]\n",
      " [   1   10]\n",
      " [   1   11]\n",
      " [   1   12]\n",
      " [   1   13]\n",
      " [   1   14]\n",
      " [   1   15]\n",
      " [   1   16]\n",
      " [   1   17]\n",
      " [   1   18]\n",
      " [   1   19]\n",
      " [2160    0]\n",
      " [2160    1]\n",
      " [2160    2]\n",
      " [2160    3]\n",
      " [2160    4]\n",
      " [2160    5]\n",
      " [2160    6]\n",
      " [2160    7]\n",
      " [2160    8]\n",
      " [2160    9]\n",
      " [2160   10]\n",
      " [2160   11]\n",
      " [2160   12]\n",
      " [2160   13]\n",
      " [2160   14]\n",
      " [2160   15]\n",
      " [2160   16]\n",
      " [2160   17]\n",
      " [2160   18]\n",
      " [2160   19]]\n",
      "Dropped NaN: \n",
      " [[ 9  0]\n",
      " [ 9  1]\n",
      " [ 9  2]\n",
      " [ 9  3]\n",
      " [ 9  4]\n",
      " [ 9  5]\n",
      " [ 9  6]\n",
      " [ 9  7]\n",
      " [ 9  8]\n",
      " [ 9  9]\n",
      " [ 9 10]\n",
      " [ 9 11]\n",
      " [ 9 12]\n",
      " [ 9 13]\n",
      " [ 9 14]\n",
      " [ 9 15]\n",
      " [ 9 16]\n",
      " [ 9 17]\n",
      " [ 9 18]\n",
      " [ 9 19]\n",
      " [62  0]\n",
      " [62  1]\n",
      " [62  2]\n",
      " [62  3]\n",
      " [62  4]\n",
      " [62  5]\n",
      " [62  6]\n",
      " [62  7]\n",
      " [62  8]\n",
      " [62  9]\n",
      " [62 10]\n",
      " [62 11]\n",
      " [62 12]\n",
      " [62 13]\n",
      " [62 14]\n",
      " [62 15]\n",
      " [62 16]\n",
      " [62 17]\n",
      " [62 18]\n",
      " [62 19]]\n",
      "test_stack shape:  (72, 128, 20)\n",
      "confirm no NaN: True\n"
     ]
    }
   ],
   "source": [
    "test_stack = np.empty((0, int(INTERVAL * SAMPLE_FREQ), N_COMPONENTS))\n",
    "for l in label:\n",
    "    for trial in test_number:\n",
    "        path = test_root + prefix + l + str(trial) + suffix\n",
    "        df = pd.read_csv(path)\n",
    "\n",
    "#         df = df.drop(columns=df.columns[25:])\n",
    "#         df = df.drop(columns=df.columns[0:21])  # Only keep raw EEG data.\n",
    "\n",
    "        df = df.drop(columns=df.columns[21:]) # drop raw columns\n",
    "        df = df.drop(columns=df.columns[0]) # Keep only DTABG filtered components.\n",
    "        \n",
    "        if (df.equals(df.dropna()) == False):\n",
    "            print(\"Dropped NaN: \\n\", np.argwhere(np.isnan(df.values)))\n",
    "            df = df.dropna()  # Drop NaN (blank) datapts.\n",
    "\n",
    "        OFFSET = 1\n",
    "        while OFFSET < 7:\n",
    "            START = int(OFFSET * SAMPLE_FREQ)\n",
    "            END = int(START + SAMPLE_FREQ * INTERVAL)\n",
    "            OFFSET += 0.5\n",
    "\n",
    "            raw = df.iloc[START:END]  # Select by row\n",
    "            raw_vals = raw.values\n",
    "            raw_vals = np.reshape(\n",
    "                raw_vals, (1, int(INTERVAL * SAMPLE_FREQ), N_COMPONENTS))\n",
    "            test_stack = np.concatenate((test_stack, raw_vals), axis=0)\n",
    "#             print(test_stack.shape)\n",
    "# df_test = pd.DataFrame(test_stack)\n",
    "# print(df_stack.head())\n",
    "# num_rows=num_trials; num_cols=num_datapts\n",
    "print(\"test_stack shape: \", test_stack.shape)\n",
    "print(\"confirm no NaN:\", len(np.argwhere(np.isnan(test_stack))) == 0)  # Should be empty"
   ]
  },
  {
   "cell_type": "markdown",
   "metadata": {},
   "source": [
    "#### Labels"
   ]
  },
  {
   "cell_type": "code",
   "execution_count": 4,
   "metadata": {},
   "outputs": [],
   "source": [
    "# Labels\n",
    "train_labels = np.concatenate(\n",
    "    (np.tile([0, 1], (TRAIN_SAMPLES, 1)),\n",
    "     np.tile([1, 0], (TRAIN_SAMPLES, 1)))\n",
    ")\n",
    "test_labels = np.concatenate(\n",
    "    (np.tile([0, 1], (TEST_SAMPLES, 1)),\n",
    "     np.tile([1, 0], (TEST_SAMPLES, 1)))\n",
    ")"
   ]
  },
  {
   "cell_type": "markdown",
   "metadata": {},
   "source": [
    "### Create tf.data.Dataset from tensor slices"
   ]
  },
  {
   "cell_type": "code",
   "execution_count": 5,
   "metadata": {},
   "outputs": [],
   "source": [
    "FULL_DATASET_SIZE = 120\n",
    "TRAIN_SIZE = int(FULL_DATASET_SIZE * 0.8)\n",
    "VALIDATION_SIZE = int(FULL_DATASET_SIZE * 0.2)\n",
    "\n",
    "TRAIN_BATCH_SIZE = 4\n",
    "VALIDATION_BATCH_SIZE = 1\n",
    "\n",
    "full_dataset = tf.data.Dataset.from_tensor_slices(\n",
    "    (data_stack, train_labels)\n",
    ").shuffle(FULL_DATASET_SIZE)\n",
    "\n",
    "train_dataset = full_dataset.take(TRAIN_SIZE).batch(TRAIN_BATCH_SIZE)\n",
    "validation_dataset = full_dataset.skip(TRAIN_SIZE).take(VALIDATION_SIZE).batch(VALIDATION_BATCH_SIZE)\n",
    "\n",
    "test_dataset = tf.data.Dataset.from_tensor_slices((test_stack, test_labels))\n",
    "TEST_SHUFFLE_BUFFER = 16\n",
    "TEST_BATCH_SIZE = 1\n",
    "test_dataset = test_dataset.shuffle(TEST_SHUFFLE_BUFFER).batch(TEST_BATCH_SIZE)"
   ]
  },
  {
   "cell_type": "code",
   "execution_count": 6,
   "metadata": {},
   "outputs": [
    {
     "name": "stdout",
     "output_type": "stream",
     "text": [
      "<BatchDataset shapes: ((None, 128, 20), (None, 2)), types: (tf.float64, tf.int32)> <BatchDataset shapes: ((None, 128, 20), (None, 2)), types: (tf.float64, tf.int32)> <BatchDataset shapes: ((None, 128, 20), (None, 2)), types: (tf.float64, tf.int32)>\n"
     ]
    }
   ],
   "source": [
    "print(train_dataset, validation_dataset, test_dataset)"
   ]
  },
  {
   "cell_type": "markdown",
   "metadata": {},
   "source": [
    "## Build the Model with Keras"
   ]
  },
  {
   "cell_type": "markdown",
   "metadata": {},
   "source": [
    "### A Basic Convolutional Neural Network"
   ]
  },
  {
   "cell_type": "code",
   "execution_count": 24,
   "metadata": {},
   "outputs": [
    {
     "name": "stdout",
     "output_type": "stream",
     "text": [
      "Model: \"simple_conv\"\n",
      "_________________________________________________________________\n",
      "Layer (type)                 Output Shape              Param #   \n",
      "=================================================================\n",
      "input_2 (InputLayer)         [(None, 128, 20, 1)]      0         \n",
      "_________________________________________________________________\n",
      "conv2d_3 (Conv2D)            (None, 126, 18, 16)       160       \n",
      "_________________________________________________________________\n",
      "max_pooling2d_2 (MaxPooling2 (None, 63, 18, 16)        0         \n",
      "_________________________________________________________________\n",
      "conv2d_4 (Conv2D)            (None, 61, 16, 32)        4640      \n",
      "_________________________________________________________________\n",
      "max_pooling2d_3 (MaxPooling2 (None, 30, 16, 32)        0         \n",
      "_________________________________________________________________\n",
      "conv2d_5 (Conv2D)            (None, 28, 14, 64)        18496     \n",
      "_________________________________________________________________\n",
      "flatten_1 (Flatten)          (None, 25088)             0         \n",
      "_________________________________________________________________\n",
      "dense_3 (Dense)              (None, 64)                1605696   \n",
      "_________________________________________________________________\n",
      "dense_4 (Dense)              (None, 16)                1040      \n",
      "_________________________________________________________________\n",
      "dense_5 (Dense)              (None, 2)                 34        \n",
      "=================================================================\n",
      "Total params: 1,630,066\n",
      "Trainable params: 1,630,066\n",
      "Non-trainable params: 0\n",
      "_________________________________________________________________\n"
     ]
    }
   ],
   "source": [
    "input_shape = (int(SAMPLE_FREQ * INTERVAL), N_COMPONENTS, 1)\n",
    "inputs = keras.Input(shape=input_shape)\n",
    "# A proposed architecture is to use recurrent first to \"summarize,\"\n",
    "    # No need for embedding layer in recurrent subnetwork?\n",
    "# then use convolutional to classify.\n",
    "\n",
    "\n",
    "first_conv = layers.Conv2D(16, 3, activation='relu')\n",
    "first_pool = layers.MaxPool2D(pool_size=(2, 1))\n",
    "second_conv = layers.Conv2D(32, 3, activation='relu')\n",
    "second_pool = layers.MaxPool2D(pool_size=(2, 1))\n",
    "third_conv = layers.Conv2D(64, 3, activation='relu')\n",
    "flattener = layers.Flatten()\n",
    "first_dense = layers.Dense(64, activation='relu')\n",
    "second_dense = layers.Dense(16, activation='relu')\n",
    "third_dense = layers.Dense(2)\n",
    "\n",
    "outputs = third_dense(\n",
    "    second_dense(first_dense(\n",
    "        flattener(\n",
    "            third_conv(\n",
    "                second_pool(second_conv(\n",
    "                    first_pool(first_conv(inputs)))))))))\n",
    "\n",
    "model = keras.Model(inputs=inputs, outputs=outputs, name='simple_conv')\n",
    "model.summary()"
   ]
  },
  {
   "cell_type": "markdown",
   "metadata": {},
   "source": [
    "### A Recurrent-->Convolutional Neural Network"
   ]
  },
  {
   "cell_type": "code",
   "execution_count": null,
   "metadata": {},
   "outputs": [],
   "source": []
  },
  {
   "cell_type": "markdown",
   "metadata": {},
   "source": [
    "### Compile Model"
   ]
  },
  {
   "cell_type": "code",
   "execution_count": 25,
   "metadata": {},
   "outputs": [],
   "source": [
    "model.compile(optimizer='adam',\n",
    "              loss=keras.losses.BinaryCrossentropy(from_logits=True),\n",
    "              metrics=['accuracy'])"
   ]
  },
  {
   "cell_type": "markdown",
   "metadata": {},
   "source": [
    "## Train Model"
   ]
  },
  {
   "cell_type": "code",
   "execution_count": 26,
   "metadata": {},
   "outputs": [
    {
     "name": "stdout",
     "output_type": "stream",
     "text": [
      "Epoch 1/10\n",
      "72/72 [==============================] - 2s 21ms/step - loss: 1.9378 - accuracy: 0.8194 - val_loss: 0.9218 - val_accuracy: 0.5000\n",
      "Epoch 2/10\n",
      "72/72 [==============================] - 1s 17ms/step - loss: 0.7386 - accuracy: 0.4722 - val_loss: 0.7099 - val_accuracy: 0.2500\n",
      "Epoch 3/10\n",
      "72/72 [==============================] - 1s 17ms/step - loss: 0.6287 - accuracy: 0.5000 - val_loss: 2.6109 - val_accuracy: 0.6250\n",
      "Epoch 4/10\n",
      "72/72 [==============================] - 1s 17ms/step - loss: 0.8062 - accuracy: 0.6111 - val_loss: 0.6781 - val_accuracy: 0.5833\n",
      "Epoch 5/10\n",
      "72/72 [==============================] - 1s 17ms/step - loss: 0.6114 - accuracy: 0.5139 - val_loss: 1.2102 - val_accuracy: 0.5833\n",
      "Epoch 6/10\n",
      "72/72 [==============================] - 1s 17ms/step - loss: 0.6432 - accuracy: 0.5694 - val_loss: 2.4508 - val_accuracy: 0.3750\n",
      "Epoch 7/10\n",
      "72/72 [==============================] - 1s 17ms/step - loss: 0.7686 - accuracy: 0.8056 - val_loss: 1.6059 - val_accuracy: 0.5417\n",
      "Epoch 8/10\n",
      "72/72 [==============================] - 1s 16ms/step - loss: 0.6469 - accuracy: 0.6250 - val_loss: 4.1186 - val_accuracy: 0.3750\n",
      "Epoch 9/10\n",
      "72/72 [==============================] - 1s 16ms/step - loss: 0.4973 - accuracy: 0.7778 - val_loss: 1.0293 - val_accuracy: 0.5417\n",
      "Epoch 10/10\n",
      "72/72 [==============================] - 1s 13ms/step - loss: 0.5667 - accuracy: 0.8194 - val_loss: 1.2673 - val_accuracy: 0.5417\n"
     ]
    }
   ],
   "source": [
    "history = model.fit(train_dataset, epochs=10, verbose=1, validation_data=validation_dataset)"
   ]
  },
  {
   "cell_type": "markdown",
   "metadata": {},
   "source": [
    "## Test Model"
   ]
  },
  {
   "cell_type": "code",
   "execution_count": 27,
   "metadata": {},
   "outputs": [
    {
     "name": "stdout",
     "output_type": "stream",
     "text": [
      "24/24 [==============================] - 0s 5ms/step - loss: 1.1698 - accuracy: 0.5208\n"
     ]
    }
   ],
   "source": [
    "test_loss, test_acc = model.evaluate(test_dataset)"
   ]
  },
  {
   "cell_type": "code",
   "execution_count": null,
   "metadata": {},
   "outputs": [],
   "source": []
  }
 ],
 "metadata": {
  "kernelspec": {
   "display_name": "Python 3",
   "language": "python",
   "name": "python3"
  },
  "language_info": {
   "codemirror_mode": {
    "name": "ipython",
    "version": 3
   },
   "file_extension": ".py",
   "mimetype": "text/x-python",
   "name": "python",
   "nbconvert_exporter": "python",
   "pygments_lexer": "ipython3",
   "version": "3.8.1"
  },
  "toc": {
   "base_numbering": "0",
   "nav_menu": {},
   "number_sections": true,
   "sideBar": true,
   "skip_h1_title": false,
   "title_cell": "Table of Contents",
   "title_sidebar": "Contents",
   "toc_cell": false,
   "toc_position": {
    "height": "613.2px",
    "left": "43px",
    "top": "110.8px",
    "width": "221.597px"
   },
   "toc_section_display": true,
   "toc_window_display": true
  },
  "varInspector": {
   "cols": {
    "lenName": 16,
    "lenType": 16,
    "lenVar": 40
   },
   "kernels_config": {
    "python": {
     "delete_cmd_postfix": "",
     "delete_cmd_prefix": "del ",
     "library": "var_list.py",
     "varRefreshCmd": "print(var_dic_list())"
    },
    "r": {
     "delete_cmd_postfix": ") ",
     "delete_cmd_prefix": "rm(",
     "library": "var_list.r",
     "varRefreshCmd": "cat(var_dic_list()) "
    }
   },
   "oldHeight": 378.17572800000005,
   "position": {
    "height": "398.898px",
    "left": "798.364px",
    "right": "20px",
    "top": "20px",
    "width": "583.352px"
   },
   "types_to_exclude": [
    "module",
    "function",
    "builtin_function_or_method",
    "instance",
    "_Feature"
   ],
   "varInspector_section_display": "block",
   "window_display": false
  }
 },
 "nbformat": 4,
 "nbformat_minor": 2
}
